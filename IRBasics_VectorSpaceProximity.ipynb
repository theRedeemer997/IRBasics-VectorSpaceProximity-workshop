{
 "cells": [
  {
   "cell_type": "markdown",
   "id": "890288b1",
   "metadata": {},
   "source": [
    "# 🛠️ Active Learning Workshop: Implementing an Inverted Matrix (Jupyter + GitHub Edition)\n",
    "## 🔍 Workshop Theme\n",
    "*Readable, correct, and collaboratively reviewed code—just like in the real world.*"
   ]
  },
  {
   "cell_type": "markdown",
   "id": "08e78d18",
   "metadata": {},
   "source": [
    "\n",
    "Welcome to the 90-minute workshop! In this hands-on session, your team will build an **Inverted Index** pipeline, the foundation of many intelligent systems that need fast and relevant access to text data — such as AI agents.\n",
    "\n",
    "### 👥 Team Guidelines\n",
    "- Work in teams of 3.\n",
    "- Submit one completed Jupyter Notebook per team.\n",
    "- The final notebook must contain **Markdown explanations** and **Python code**.\n",
    "- Push your notebook to GitHub and share the `.git` link before class ends.\n",
    "\n",
    "---\n",
    "## 🔧 Workshop Tasks Overview\n",
    "\n",
    "1. **Document Collection**\n",
    "2. **Tokenizer Implementation**\n",
    "3. **Normalization Pipeline (Stemming, Stop Words, etc.)**\n",
    "4. **Build and Query the Inverted Index**\n",
    "\n",
    "> Each step includes a sample **talking point**. Your team must add your own custom **Markdown + code cells** with a **second talking point**, and test your Inverted Index with **2 phrase queries**.\n"
   ]
  },
  {
   "cell_type": "markdown",
   "id": "0a922333",
   "metadata": {},
   "source": [
    "\n",
    "\n",
    "## 🧠 Learning Objectives\n",
    "- Implement an **Inverted Matrix** using real-world data during the NLP process.\n",
    "- Build **Jupyter Notebooks** with well-structured code and clear Markdown documentation.\n",
    "- Use **Git and GitHub** for collaborative version control and code sharing.\n",
    "- Identify and articulate coding issues (\"**talking points**\") and insert them directly into peer notebooks.\n",
    "- Practice **collaborative debugging**, professional peer feedback, and improve code quality.\n",
    "\n",
    "## 🧩 Workshop Structure (90 Minutes)\n",
    "1. **Instructor Use Case Introduction** *(15 min)* – Set up teams of 3 people. Read and understand the workshop, plus submission instructions. Seek assistance if needed.\n",
    "2. **Team Jupyter Notebook Development** *(45 min)* – Manual IR and Inverted Matrix coding + Markdown documentation (work as teams)\n",
    "3. **Push to GitHub** *(15 min)* – Teams commit and push initial notebooks. **Make sure to include your names so it is easy to identify the team that developed the Min-Max code**.\n",
    "4. **Instructor Review** - The instructor will go around, take notes, and provide coaching as needed, during the **Peer Review Round**\n",
    "5. **Email Delivery** *(15 min)* – Each team send the instructor an email **with the *.git link** to the GitHub repo **(one email/team)**. Subject on the email is: PROG8245 - Inverted Matrix  Workshop, Team #_____.\n",
    "\n",
    "\n",
    "## 💻 Submission Checklist\n",
    "- ✅ `IR_InvertedMatrix_Workshop.ipynb` with:\n",
    "  - Demo code: Document Collection, Tokenizer, Normalization Pipeline, and Inverted Index.\n",
    "  - Markdown explanations for each major step\n",
    "  - **Labeled talking point(s)** and 2 phrase query tests\n",
    "- ✅ `README.md` with:\n",
    "  - Dataset description\n",
    "  - Team member names\n",
    "  - Link to the dataset and license (if public)\n",
    "- ✅ GitHub Repo:\n",
    "  - Public repo named `IR-invertedmatrix-workshop`\n",
    "  - This is a group effort, so **choose one member of the team** to publish the repo\n",
    "  - At least **one commit containing one meaningful talking point**"
   ]
  },
  {
   "cell_type": "markdown",
   "id": "7e160c9d",
   "metadata": {},
   "source": [
    "## 📄 Step 1: Document Collection"
   ]
  },
  {
   "cell_type": "markdown",
   "id": "dc964464",
   "metadata": {},
   "source": [
    "\n",
    "### 🗣 Instructor Talking Point:\n",
    "> We begin by gathering a text corpus. To build a robust index, your vocabulary should include **over 2000 unique words**. You can use scraped articles, academic papers, or open datasets.\n",
    "\n",
    "### 🔧 Your Task:\n",
    "- Collect at least 20+ text documents.\n",
    "- Ensure the vocabulary exceeds 2000 unique words.\n",
    "- Load the documents into a list for processing.\n"
   ]
  },
  {
   "cell_type": "code",
   "execution_count": 1,
   "id": "23ee0c6c",
   "metadata": {},
   "outputs": [
    {
     "name": "stdout",
     "output_type": "stream",
     "text": [
      "Loaded 20 documents.\n"
     ]
    }
   ],
   "source": [
    "# Example: Load text files from a folder\n",
    "import os\n",
    "\n",
    "def load_documents(folder_path):\n",
    "    documents = []\n",
    "    for filename in os.listdir(folder_path):\n",
    "        if filename.endswith('.txt'):\n",
    "            with open(os.path.join(folder_path, filename), 'r', encoding='utf-8') as file:\n",
    "                documents.append(file.read())\n",
    "    return documents\n",
    "\n",
    "# Replace 'sample_docs/' with your actual folder\n",
    "documents = load_documents('data/')\n",
    "print(f\"Loaded {len(documents)} documents.\")\n"
   ]
  },
  {
   "cell_type": "markdown",
   "id": "b342945a",
   "metadata": {},
   "source": [
    "## ✂️ Step 2: Tokenizer"
   ]
  },
  {
   "cell_type": "markdown",
   "id": "2803fb52",
   "metadata": {},
   "source": [
    "\n",
    "### 🗣 Instructor Talking Point:\n",
    "> The tokenizer breaks raw text into a stream of words (tokens). This is the foundation for every later step in IR and NLP.\n",
    "\n",
    "### 🔧 Your Task:\n",
    "- Implement a basic tokenizer that splits text into lowercase words.\n",
    "- Handle punctuation removal and basic non-alphanumeric filtering.\n"
   ]
  },
  {
   "cell_type": "code",
   "execution_count": 2,
   "id": "4806fc13",
   "metadata": {},
   "outputs": [
    {
     "name": "stdout",
     "output_type": "stream",
     "text": [
      "['business', 'analyst', 'top', 'companies', 'accenture', 'capgemini', 'infosys', 'deloitte', 'pwc', 'ey', 'loblaws', 'bell', 'shopify', 'td', 'core', 'skills', 'business', 'acumen', 'stakeholder', 'communication']\n"
     ]
    }
   ],
   "source": [
    "import re\n",
    "\n",
    "def tokenize(text):\n",
    "    tokens = re.findall(r'\\b\\w+\\b', text.lower())\n",
    "    return tokens\n",
    "\n",
    "# Test on one document\n",
    "tokens = tokenize(documents[0])\n",
    "print(tokens[:20])  # Preview first 20 tokens\n"
   ]
  },
  {
   "cell_type": "markdown",
   "id": "03ed76ec",
   "metadata": {},
   "source": [
    "## 🔁 Step 3: Normalization Pipeline (Stemming, Stop Word Removal, etc.)"
   ]
  },
  {
   "cell_type": "markdown",
   "id": "0f277a0d",
   "metadata": {},
   "source": [
    "\n",
    "### 🗣 Instructor Talking Point:\n",
    "> Now we normalize tokens: convert to lowercase, remove stop words, apply stemming or affix stripping. This reduces redundancy and enhances search accuracy.\n",
    "\n",
    "### 🔧 Your Task:\n",
    "- Use `nltk` to remove stopwords and apply stemming.\n"
   ]
  },
  {
   "cell_type": "code",
   "execution_count": 3,
   "id": "66ae9a94",
   "metadata": {},
   "outputs": [
    {
     "name": "stdout",
     "output_type": "stream",
     "text": [
      "['busi', 'analyst', 'top', 'compani', 'accentur', 'capgemini', 'infosi', 'deloitt', 'pwc', 'ey', 'loblaw', 'bell', 'shopifi', 'td', 'core', 'skill', 'busi', 'acumen', 'stakehold', 'commun']\n"
     ]
    },
    {
     "name": "stderr",
     "output_type": "stream",
     "text": [
      "[nltk_data] Downloading package stopwords to\n",
      "[nltk_data]     C:\\Users\\mathe\\AppData\\Roaming\\nltk_data...\n",
      "[nltk_data]   Package stopwords is already up-to-date!\n"
     ]
    }
   ],
   "source": [
    "import nltk\n",
    "from nltk.corpus import stopwords\n",
    "from nltk.stem import PorterStemmer\n",
    "\n",
    "nltk.download('stopwords')\n",
    "stop_words = set(stopwords.words('english'))\n",
    "stemmer = PorterStemmer()\n",
    "\n",
    "def normalize_tokens(tokens):\n",
    "    return [stemmer.stem(t) for t in tokens if t not in stop_words]\n",
    "\n",
    "# Example: normalize one document\n",
    "norm_tokens = normalize_tokens(tokens)\n",
    "print(norm_tokens[:20])\n"
   ]
  },
  {
   "cell_type": "markdown",
   "id": "9a34cf58",
   "metadata": {},
   "source": [
    "## 🔍 Step 4: Inverted Index"
   ]
  },
  {
   "cell_type": "markdown",
   "id": "847c39dd",
   "metadata": {},
   "source": [
    "\n",
    "### 🗣 Instructor Talking Point:\n",
    "> We now map each normalized token to the list of document IDs in which it appears. This is the core structure that allows fast Boolean and phrase queries.\n",
    "\n",
    "### 🔧 Your Task:\n",
    "- Build the inverted index using a dictionary.\n",
    "- Add code to support phrase queries using positional indexing.\n"
   ]
  },
  {
   "cell_type": "code",
   "execution_count": 4,
   "id": "8ca8f106",
   "metadata": {},
   "outputs": [
    {
     "name": "stdout",
     "output_type": "stream",
     "text": [
      "{'busi': defaultdict(<class 'list'>, {0: [0, 16, 31, 39], 4: [110, 600], 6: [506], 9: [232], 14: [299], 16: [7, 9], 17: [10], 19: [41]}), 'analyst': defaultdict(<class 'list'>, {0: [1, 32], 7: [4], 8: [26], 11: [13, 46], 16: [3, 8, 15, 23, 30, 36], 18: [11]}), 'top': defaultdict(<class 'list'>, {0: [2], 3: [2], 5: [2], 6: [526, 542], 11: [25], 13: [3], 19: [1]}), 'compani': defaultdict(<class 'list'>, {0: [3], 2: [0, 45], 3: [3], 4: [44, 329, 462], 5: [3], 6: [568], 9: [26], 11: [3, 30], 13: [4], 14: [277], 15: [111], 17: [0, 23], 19: [2]}), 'accentur': defaultdict(<class 'list'>, {0: [4]}), 'capgemini': defaultdict(<class 'list'>, {0: [5]}), 'infosi': defaultdict(<class 'list'>, {0: [6]}), 'deloitt': defaultdict(<class 'list'>, {0: [7]}), 'pwc': defaultdict(<class 'list'>, {0: [8]}), 'ey': defaultdict(<class 'list'>, {0: [9]}), 'loblaw': defaultdict(<class 'list'>, {0: [10], 11: [51]}), 'bell': defaultdict(<class 'list'>, {0: [11]}), 'shopifi': defaultdict(<class 'list'>, {0: [12], 5: [7], 11: [32], 17: [13]}), 'td': defaultdict(<class 'list'>, {0: [13], 3: [14], 11: [42]}), 'core': defaultdict(<class 'list'>, {0: [14], 3: [17], 4: [240], 5: [12], 13: [17]}), 'skill': defaultdict(<class 'list'>, {0: [15], 3: [18], 4: [286], 5: [13], 6: [272], 8: [17, 51, 98], 9: [248, 274, 289], 12: [24], 13: [18], 14: [225, 305], 15: [76, 133, 222, 236, 246], 19: [0, 10, 39]}), 'acumen': defaultdict(<class 'list'>, {0: [17], 19: [42]}), 'stakehold': defaultdict(<class 'list'>, {0: [18], 9: [294], 14: [402], 16: [12]}), 'commun': defaultdict(<class 'list'>, {0: [19], 4: [358, 561], 6: [270, 370], 8: [43, 61, 97], 9: [273], 12: [20, 40], 14: [223, 270], 15: [19, 114, 244], 19: [40]}), 'sql': defaultdict(<class 'list'>, {0: [20], 5: [15], 8: [33], 19: [13]}), 'excel': defaultdict(<class 'list'>, {0: [21], 6: [269], 8: [38, 48, 94], 15: [239], 19: [14]}), 'agil': defaultdict(<class 'list'>, {0: [22], 4: [10], 8: [58], 9: [315], 14: [211]}), 'scrum': defaultdict(<class 'list'>, {0: [23], 8: [59]}), 'requir': defaultdict(<class 'list'>, {0: [24], 1: [12, 87, 107], 4: [618], 9: [200, 209, 225, 228, 233, 238], 12: [87], 14: [292], 15: [162, 169, 250, 257, 270, 277]}), 'gather': defaultdict(<class 'list'>, {0: [25]}), 'document': defaultdict(<class 'list'>, {0: [26], 6: [513], 9: [262, 278], 14: [146]}), 'jira': defaultdict(<class 'list'>, {0: [27]}), 'confluenc': defaultdict(<class 'list'>, {0: [28]}), 'career': defaultdict(<class 'list'>, {0: [29], 3: [35], 4: [277, 291, 424], 5: [28], 6: [336, 389, 392], 9: [2], 13: [32], 15: [68]}), 'path': defaultdict(<class 'list'>, {0: [30], 3: [36], 4: [289, 425, 437], 5: [29], 13: [33]}), 'senior': defaultdict(<class 'list'>, {0: [33], 5: [32]}), 'ba': defaultdict(<class 'list'>, {0: [34]}), 'product': defaultdict(<class 'list'>, {0: [35], 2: [32, 65], 4: [61, 186], 6: [23, 109, 124, 263], 7: [11], 11: [38], 14: [3, 119], 15: [28, 161, 193, 214, 269], 16: [14, 16], 18: [4]}), 'owner': defaultdict(<class 'list'>, {0: [36]}), 'project': defaultdict(<class 'list'>, {0: [37], 6: [167], 8: [46, 53], 15: [14]}), 'manag': defaultdict(<class 'list'>, {0: [38], 5: [38], 6: [205], 8: [47, 54, 65], 9: [79], 13: [44], 14: [120, 221], 15: [136], 18: [5]}), 'consult': defaultdict(<class 'list'>, {0: [40], 9: [4]}), 'job': defaultdict(<class 'list'>, {1: [0], 4: [0, 611], 6: [0, 320, 339, 344], 9: [0], 10: [3, 9], 14: [0], 15: [0, 153]}), 'swift': defaultdict(<class 'list'>, {1: [1, 94], 14: [192]}), 'python': defaultdict(<class 'list'>, {1: [2, 95], 3: [19], 5: [14], 8: [7], 13: [19], 19: [15]}), 'java': defaultdict(<class 'list'>, {1: [3, 96], 8: [8], 14: [194]}), 'go': defaultdict(<class 'list'>, {1: [4, 97]}), 'verilog': defaultdict(<class 'list'>, {1: [5, 98]}), 'typescript': defaultdict(<class 'list'>, {1: [6, 99], 6: [187], 14: [135, 181]}), 'javascript': defaultdict(<class 'list'>, {1: [7, 100], 14: [134, 180]}), 'c': defaultdict(<class 'list'>, {1: [8, 9, 101, 102], 8: [9], 14: [186]}), 'code': defaultdict(<class 'list'>, {1: [10, 110], 4: [153, 252, 599], 14: [131]}), 'experi': defaultdict(<class 'list'>, {1: [11], 4: [166, 378, 523], 6: [60, 176, 215, 236, 278, 306, 410], 8: [10, 37, 52, 103], 9: [268, 287], 12: [51], 14: [78, 144, 172, 184, 196, 213], 15: [142, 253]}), 'great': defaultdict(<class 'list'>, {1: [13], 2: [1, 46], 4: [169, 454, 465], 11: [4, 31], 15: [140], 17: [1, 24]}), 'opportun': defaultdict(<class 'list'>, {1: [14, 130], 4: [419, 460, 596], 6: [563], 12: [0, 60], 14: [337, 346], 15: [69, 108]}), 'supplement': defaultdict(<class 'list'>, {1: [15]}), 'incom': defaultdict(<class 'list'>, {1: [16]}), 'look': defaultdict(<class 'list'>, {1: [17], 4: [188, 385, 510], 6: [56, 174], 14: [66, 245, 247], 15: [77, 233]}), 'longer': defaultdict(<class 'list'>, {1: [18]}), 'full': defaultdict(<class 'list'>, {1: [19], 6: [460]}), 'time': defaultdict(<class 'list'>, {1: [20], 4: [332, 337], 6: [423, 461], 7: [40], 11: [7], 12: [75, 80, 90]}), 'work': defaultdict(<class 'list'>, {1: [21, 48, 57, 85, 90], 4: [181, 235, 310, 341, 427, 458, 501, 607], 6: [279], 8: [81], 9: [14, 103, 215, 291], 14: [17, 95, 235, 243, 342, 385, 403], 15: [57, 90, 93, 260, 282]}), 'contribut': defaultdict(<class 'list'>, {1: [22], 4: [331], 6: [120, 152, 402], 7: [5], 9: [258, 300], 14: [97, 147], 15: [59, 155]}), 'develop': defaultdict(<class 'list'>, {1: [23], 4: [174, 249, 287, 312, 346], 6: [130, 139, 161], 8: [12], 9: [50, 74, 87, 243, 247, 259, 265, 303], 12: [56], 14: [68, 83, 118, 150, 174, 191, 288], 15: [73]}), 'new': defaultdict(<class 'list'>, {1: [24], 4: [362, 386], 6: [114], 9: [96, 158], 12: [3, 33], 14: [164], 15: [121]}), 'ai': defaultdict(<class 'list'>, {1: [25, 66, 127], 3: [11, 43], 4: [141, 242, 258], 6: [6, 78, 104, 280, 360, 476, 497, 508], 9: [22], 13: [6, 42]}), 'model': defaultdict(<class 'list'>, {1: [26], 2: [58], 3: [30], 6: [477], 7: [46], 11: [66], 13: [30]}), 'use': defaultdict(<class 'list'>, {1: [27], 4: [51, 535, 540], 6: [224], 9: [245, 280], 14: [92, 132, 175], 15: [132]}), 'domain': defaultdict(<class 'list'>, {1: [28], 6: [356, 387]}), 'expertis': defaultdict(<class 'list'>, {1: [29], 6: [495], 9: [212]}), 'client': defaultdict(<class 'list'>, {1: [30], 6: [75], 9: [11, 34], 14: [45]}), 'hire': defaultdict(<class 'list'>, {1: [31, 37], 4: [528, 553, 568, 623], 14: [44, 408], 15: [122]}), '1': defaultdict(<class 'list'>, {1: [32]}), '000': defaultdict(<class 'list'>, {1: [33, 44], 4: [47, 480], 14: [34]}), 'braintrust': defaultdict(<class 'list'>, {1: [34, 40]}), 'talent': defaultdict(<class 'list'>, {1: [35], 4: [357, 368], 6: [68, 379], 10: [12], 15: [54]}), 'intend': defaultdict(<class 'list'>, {1: [36]}), 'hundr': defaultdict(<class 'list'>, {1: [38]}), 'mani': defaultdict(<class 'list'>, {1: [39], 14: [238], 15: [86]}), 'coder': defaultdict(<class 'list'>, {1: [41]}), 'earn': defaultdict(<class 'list'>, {1: [42]}), '12': defaultdict(<class 'list'>, {1: [43]}), 'per': defaultdict(<class 'list'>, {1: [45], 6: [89]}), 'month': defaultdict(<class 'list'>, {1: [46], 9: [192]}), 'flexibl': defaultdict(<class 'list'>, {1: [47], 4: [338, 457], 6: [421], 9: [314]}), 'much': defaultdict(<class 'list'>, {1: [49], 15: [126]}), 'littl': defaultdict(<class 'list'>, {1: [50, 58]}), 'choos': defaultdict(<class 'list'>, {1: [51]}), '20hr': defaultdict(<class 'list'>, {1: [52]}), 'week': defaultdict(<class 'list'>, {1: [53], 6: [90], 14: [261]}), 'suggest': defaultdict(<class 'list'>, {1: [54]}), 'limit': defaultdict(<class 'list'>, {1: [55]}), 'start': defaultdict(<class 'list'>, {1: [56], 14: [259]}), '48': defaultdict(<class 'list'>, {1: [59]}), 'hour': defaultdict(<class 'list'>, {1: [60], 4: [459]}), 'final': defaultdict(<class 'list'>, {1: [61], 14: [322]}), 'hourli': defaultdict(<class 'list'>, {1: [62]}), 'rate': defaultdict(<class 'list'>, {1: [63], 16: [28]}), 'chosen': defaultdict(<class 'list'>, {1: [64]}), 'outlier': defaultdict(<class 'list'>, {1: [65, 126]}), 'determin': defaultdict(<class 'list'>, {1: [67], 4: [646], 14: [325]}), 'locat': defaultdict(<class 'list'>, {1: [68], 6: [408], 9: [213], 11: [29], 14: [4]}), 'expect': defaultdict(<class 'list'>, {1: [69], 4: [354], 14: [379], 19: [3, 6]}), 'qualifi': defaultdict(<class 'list'>, {1: [70], 15: [294]}), 'invit': defaultdict(<class 'list'>, {1: [71], 4: [126]}), 'complet': defaultdict(<class 'list'>, {1: [72, 103]}), 'brief': defaultdict(<class 'list'>, {1: [73]}), 'questionnair': defaultdict(<class 'list'>, {1: [74, 81]}), 'take': defaultdict(<class 'list'>, {1: [75], 4: [198, 433], 9: [190], 14: [30]}), '3': defaultdict(<class 'list'>, {1: [76], 6: [87], 14: [169, 260]}), '5': defaultdict(<class 'list'>, {1: [77], 12: [89]}), 'minut': defaultdict(<class 'list'>, {1: [78]}), 'success': defaultdict(<class 'list'>, {1: [79], 4: [442], 14: [168, 320], 15: [156]}), 'pass': defaultdict(<class 'list'>, {1: [80]}), 'approv': defaultdict(<class 'list'>, {1: [82], 9: [132]}), 'abl': defaultdict(<class 'list'>, {1: [83, 108], 9: [92], 14: [233], 15: [72]}), 'begin': defaultdict(<class 'list'>, {1: [84]}), 'asap': defaultdict(<class 'list'>, {1: [86]}), 'qualif': defaultdict(<class 'list'>, {1: [88, 116], 4: [509]}), 'profici': defaultdict(<class 'list'>, {1: [89], 8: [2, 32, 70], 19: [7]}), 'one': defaultdict(<class 'list'>, {1: [91], 4: [37], 5: [11], 6: [2], 9: [131], 12: [7, 38]}), 'follow': defaultdict(<class 'list'>, {1: [92]}), 'languag': defaultdict(<class 'list'>, {1: [93, 106], 8: [4]}), 'fluenci': defaultdict(<class 'list'>, {1: [104]}), 'english': defaultdict(<class 'list'>, {1: [105]}), 'describ': defaultdict(<class 'list'>, {1: [109]}), 'abstract': defaultdict(<class 'list'>, {1: [111]}), 'inform': defaultdict(<class 'list'>, {1: [112], 4: [31, 59, 592, 633], 15: [160, 170, 195]}), 'clear': defaultdict(<class 'list'>, {1: [113], 4: [288]}), 'way': defaultdict(<class 'list'>, {1: [114], 4: [56, 407], 14: [239]}), 'prefer': defaultdict(<class 'list'>, {1: [115], 9: [205, 284]}), 'bachelor': defaultdict(<class 'list'>, {1: [117]}), 'master': defaultdict(<class 'list'>, {1: [118], 9: [207]}), 'degre': defaultdict(<class 'list'>, {1: [119], 9: [208]}), 'comput': defaultdict(<class 'list'>, {1: [120]}), 'scienc': defaultdict(<class 'list'>, {1: [121], 3: [47]}), 'equival': defaultdict(<class 'list'>, {1: [122]}), 'student': defaultdict(<class 'list'>, {1: [123], 15: [123]}), 'welcom': defaultdict(<class 'list'>, {1: [124]}), 'note': defaultdict(<class 'list'>, {1: [125], 6: [457], 9: [184]}), 'partner': defaultdict(<class 'list'>, {1: [128], 4: [88], 6: [520, 531], 9: [37], 14: [27]}), 'remotask': defaultdict(<class 'list'>, {1: [129]}), 'googl': defaultdict(<class 'list'>, {2: [2], 13: [5], 14: [159]}), 'data': defaultdict(<class 'list'>, {2: [3, 21, 39, 63], 3: [0, 37, 46], 5: [0, 22, 30, 33, 35], 6: [282], 7: [3, 27], 8: [25, 30, 34, 39, 44], 11: [12, 20, 36, 50], 16: [2, 37], 17: [16, 29, 33], 18: [2], 19: [11, 17]}), 'driven': defaultdict(<class 'list'>, {2: [4, 40], 4: [195], 6: [105, 281], 11: [37], 15: [9]}), 'cultur': defaultdict(<class 'list'>, {2: [5], 4: [297, 353, 415], 6: [154], 12: [25]}), 'advanc': defaultdict(<class 'list'>, {2: [6], 4: [420, 555], 12: [61], 15: [109]}), 'analyt': defaultdict(<class 'list'>, {2: [7, 12, 33, 52], 4: [266], 9: [309], 11: [55, 64], 17: [6, 41]}), 'competit': defaultdict(<class 'list'>, {2: [8], 4: [66, 317, 452]}), 'pay': defaultdict(<class 'list'>, {2: [9]}), 'microsoft': defaultdict(<class 'list'>, {2: [10], 3: [10], 4: [233, 536], 13: [12], 14: [398]}), 'divers': defaultdict(<class 'list'>, {2: [11], 6: [566], 9: [292], 12: [19], 14: [369], 15: [289]}), 'role': defaultdict(<class 'list'>, {2: [13, 23, 31], 4: [162, 363], 6: [86, 164, 335, 407], 9: [45, 101, 111, 136], 10: [1], 11: [21], 14: [81, 298, 405], 15: [157, 256], 16: [0]}), 'across': defaultdict(<class 'list'>, {2: [14], 4: [221, 292, 421], 6: [140, 149, 486], 9: [12, 16, 42]}), 'azur': defaultdict(<class 'list'>, {2: [15], 4: [241], 13: [13]}), 'offic': defaultdict(<class 'list'>, {2: [16], 4: [87], 6: [94, 433, 452], 9: [219]}), 'intern': defaultdict(<class 'list'>, {2: [17]}), 'op': defaultdict(<class 'list'>, {2: [18], 6: [380]}), 'amazon': defaultdict(<class 'list'>, {2: [19], 3: [9], 5: [6], 13: [10]}), 'massiv': defaultdict(<class 'list'>, {2: [20]}), 'infrastructur': defaultdict(<class 'list'>, {2: [22], 4: [157], 9: [78], 17: [12]}), 'logist': defaultdict(<class 'list'>, {2: [24], 4: [13, 40, 102, 108, 149, 211, 399], 11: [0, 8]}), 'retail': defaultdict(<class 'list'>, {2: [25], 4: [106], 7: [20], 11: [54]}), 'aw': defaultdict(<class 'list'>, {2: [26], 3: [34], 5: [26], 6: [312]}), 'meta': defaultdict(<class 'list'>, {2: [27], 3: [4]}), 'facebook': defaultdict(<class 'list'>, {2: [28]}), 'high': defaultdict(<class 'list'>, {2: [29], 6: [97, 266], 14: [86]}), 'impact': defaultdict(<class 'list'>, {2: [30], 4: [497], 9: [30]}), 'user': defaultdict(<class 'list'>, {2: [34], 6: [59, 101, 261], 7: [7], 14: [143]}), 'behavior': defaultdict(<class 'list'>, {2: [35], 7: [8], 17: [19]}), 'netflix': defaultdict(<class 'list'>, {2: [36]}), 'strong': defaultdict(<class 'list'>, {2: [37], 4: [296], 6: [202], 8: [14, 27, 60, 78], 9: [88, 272], 11: [44], 14: [178, 222], 17: [9]}), 'focu': defaultdict(<class 'list'>, {2: [38], 11: [14], 15: [143], 16: [6]}), 'content': defaultdict(<class 'list'>, {2: [41]}), 'person': defaultdict(<class 'list'>, {2: [42], 4: [336], 6: [13, 449, 469, 487, 521, 547], 14: [250]}), 'financ': defaultdict(<class 'list'>, {2: [43], 7: [13]}), 'fintech': defaultdict(<class 'list'>, {2: [44]}), 'jpmorgan': defaultdict(<class 'list'>, {2: [47]}), 'chase': defaultdict(<class 'list'>, {2: [48]}), 'huge': defaultdict(<class 'list'>, {2: [49]}), 'dataset': defaultdict(<class 'list'>, {2: [50]}), 'risk': defaultdict(<class 'list'>, {2: [51], 7: [15], 11: [49]}), 'fraud': defaultdict(<class 'list'>, {2: [53, 70], 7: [18], 11: [47]}), 'detect': defaultdict(<class 'list'>, {2: [54, 71], 7: [19]}), 'goldman': defaultdict(<class 'list'>, {2: [55]}), 'sach': defaultdict(<class 'list'>, {2: [56]}), 'quantit': defaultdict(<class 'list'>, {2: [57]}), 'market': defaultdict(<class 'list'>, {2: [59], 4: [74], 7: [42], 16: [22], 17: [17, 28], 18: [8]}), 'trend': defaultdict(<class 'list'>, {2: [60], 17: [39]}), 'stripe': defaultdict(<class 'list'>, {2: [61]}), 'payment': defaultdict(<class 'list'>, {2: [62]}), 'analysi': defaultdict(<class 'list'>, {2: [64, 69], 7: [28], 8: [31], 16: [21], 17: [20, 34], 19: [26]}), 'insight': defaultdict(<class 'list'>, {2: [66], 6: [507], 8: [45]}), 'paypal': defaultdict(<class 'list'>, {2: [67]}), 'transact': defaultdict(<class 'list'>, {2: [68]}), 'scientist': defaultdict(<class 'list'>, {3: [1, 38, 42], 13: [37, 41], 18: [3]}), 'deepmind': defaultdict(<class 'list'>, {3: [5]}), 'openai': defaultdict(<class 'list'>, {3: [6]}), 'ibm': defaultdict(<class 'list'>, {3: [7], 5: [8], 9: [3, 43, 51, 218]}), 'research': defaultdict(<class 'list'>, {3: [8, 44], 13: [40], 14: [162]}), 'nvidia': defaultdict(<class 'list'>, {3: [12], 13: [16]}), 'manulif': defaultdict(<class 'list'>, {3: [13], 11: [60]}), 'innov': defaultdict(<class 'list'>, {3: [15], 4: [20, 98, 254, 257, 389], 9: [24], 12: [42], 14: [9, 76]}), 'lab': defaultdict(<class 'list'>, {3: [16]}), 'r': defaultdict(<class 'list'>, {3: [20], 17: [31]}), 'machin': defaultdict(<class 'list'>, {3: [21], 4: [262], 6: [474], 13: [0]}), 'learn': defaultdict(<class 'list'>, {3: [22, 24, 28], 4: [120, 263, 345, 377, 475], 6: [475, 557], 9: [321], 13: [1, 29], 14: [285]}), 'scikit': defaultdict(<class 'list'>, {3: [23]}), 'tensorflow': defaultdict(<class 'list'>, {3: [25], 13: [20]}), 'statist': defaultdict(<class 'list'>, {3: [26], 8: [29], 19: [25]}), 'deep': defaultdict(<class 'list'>, {3: [27], 4: [471], 6: [175], 13: [28]}), 'nlp': defaultdict(<class 'list'>, {3: [29]}), 'deploy': defaultdict(<class 'list'>, {3: [31], 4: [39, 156], 6: [169, 252], 14: [153]}), 'flask': defaultdict(<class 'list'>, {3: [32]}), 'docker': defaultdict(<class 'list'>, {3: [33]}), 'ml': defaultdict(<class 'list'>, {3: [39], 4: [243], 13: [14, 34, 38]}), 'engin': defaultdict(<class 'list'>, {3: [40], 4: [170, 176, 180, 196, 352, 356], 5: [1, 31, 34, 37], 6: [38, 47, 57, 153, 166], 8: [1], 13: [2, 23, 35, 43], 18: [1]}), 'lead': defaultdict(<class 'list'>, {3: [41], 4: [96], 13: [39], 16: [26], 19: [4]}), 'director': defaultdict(<class 'list'>, {3: [45]}), 'descart': defaultdict(<class 'list'>, {4: [1, 27, 76, 122, 130, 391, 443, 469, 491, 511, 603, 605, 628]}), 'unit': defaultdict(<class 'list'>, {4: [2, 392], 9: [171, 173]}), 'peopl': defaultdict(<class 'list'>, {4: [3, 34, 393, 417], 14: [39, 246, 302, 319], 15: [12]}), 'technolog': defaultdict(<class 'list'>, {4: [4, 21, 43, 230, 237, 394, 402], 6: [179], 9: [40, 104, 322], 14: [2, 72, 165]}), 'move': defaultdict(<class 'list'>, {4: [5, 57, 118, 220, 395]}), 'world': defaultdict(<class 'list'>, {4: [6, 45, 90, 396], 6: [45, 405], 9: [27], 14: [18]}), 'need': defaultdict(<class 'list'>, {4: [7, 35, 36, 636], 6: [34], 12: [21, 37, 43], 14: [167, 300, 334, 412], 15: [50, 247, 285]}), 'effici': defaultdict(<class 'list'>, {4: [8], 11: [16], 14: [129]}), 'secur': defaultdict(<class 'list'>, {4: [9], 6: [27]}), 'suppli': defaultdict(<class 'list'>, {4: [11, 41, 147, 212, 270, 400], 7: [33], 11: [1], 17: [3]}), 'chain': defaultdict(<class 'list'>, {4: [12, 42, 148, 213, 271, 401], 6: [490], 7: [34], 11: [2], 17: [4]}), 'oper': defaultdict(<class 'list'>, {4: [14], 11: [24], 14: [40], 15: [21], 16: [29]}), 'becom': defaultdict(<class 'list'>, {4: [15], 15: [127]}), 'ever': defaultdict(<class 'list'>, {4: [16]}), 'critic': defaultdict(<class 'list'>, {4: [17, 163], 19: [43]}), 'complex': defaultdict(<class 'list'>, {4: [18], 6: [165], 9: [83]}), 'combin': defaultdict(<class 'list'>, {4: [19], 6: [491], 12: [91]}), 'power': defaultdict(<class 'list'>, {4: [22, 142], 6: [79], 19: [20]}), 'trade': defaultdict(<class 'list'>, {4: [23, 78]}), 'intellig': defaultdict(<class 'list'>, {4: [24, 140, 261, 269], 6: [502], 17: [11]}), 'reach': defaultdict(<class 'list'>, {4: [25, 207, 217, 374]}), 'network': defaultdict(<class 'list'>, {4: [26], 14: [23, 43], 18: [20]}), 'help': defaultdict(<class 'list'>, {4: [28, 272, 440, 476], 6: [42], 12: [44], 14: [37, 74], 15: [11, 48]}), 'get': defaultdict(<class 'list'>, {4: [29], 6: [447], 14: [226, 335]}), 'good': defaultdict(<class 'list'>, {4: [30, 219, 406], 9: [198], 15: [243]}), 'transport': defaultdict(<class 'list'>, {4: [32]}), 'asset': defaultdict(<class 'list'>, {4: [33], 14: [195]}), 'broadli': defaultdict(<class 'list'>, {4: [38]}), '22': defaultdict(<class 'list'>, {4: [46]}), 'custom': defaultdict(<class 'list'>, {4: [48, 64, 167, 208, 477, 502], 6: [540], 7: [16, 23], 8: [91, 104], 11: [17, 48], 14: [79], 15: [129, 135, 159, 172, 240, 249, 254], 17: [5, 18], 18: [12]}), 'around': defaultdict(<class 'list'>, {4: [49, 89]}), 'globe': defaultdict(<class 'list'>, {4: [50], 9: [13]}), 'cloud': defaultdict(<class 'list'>, {4: [52, 247], 5: [25], 6: [307], 9: [21]}), 'base': defaultdict(<class 'list'>, {4: [53, 318], 6: [438, 570], 11: [28], 14: [324]}), 'solut': defaultdict(<class 'list'>, {4: [54, 116, 144], 9: [84, 90, 226, 236, 257, 271, 279, 297, 302], 14: [10, 59]}), 'transform': defaultdict(<class 'list'>, {4: [55]}), 'inventori': defaultdict(<class 'list'>, {4: [58], 7: [35], 15: [198, 201, 204]}), 'enhanc': defaultdict(<class 'list'>, {4: [60, 505]}), 'better': defaultdict(<class 'list'>, {4: [62], 6: [32], 14: [64]}), 'serv': defaultdict(<class 'list'>, {4: [63], 15: [20]}), 'thrive': defaultdict(<class 'list'>, {4: [65]}), 'keep': defaultdict(<class 'list'>, {4: [67, 225, 547], 14: [42], 15: [146, 206]}), 'pace': defaultdict(<class 'list'>, {4: [68], 6: [171, 265]}), 'evolv': defaultdict(<class 'list'>, {4: [69]}), 'regul': defaultdict(<class 'list'>, {4: [70], 9: [107]}), 'respond': defaultdict(<class 'list'>, {4: [71, 641]}), 'rapidli': defaultdict(<class 'list'>, {4: [72]}), 'chang': defaultdict(<class 'list'>, {4: [73], 9: [33], 12: [29]}), 'condit': defaultdict(<class 'list'>, {4: [75], 15: [102]}), 'publicli': defaultdict(<class 'list'>, {4: [77]}), 'nasdaq': defaultdict(<class 'list'>, {4: [79]}), 'dsgx': defaultdict(<class 'list'>, {4: [80]}), 'tsx': defaultdict(<class 'list'>, {4: [81]}), 'dsg': defaultdict(<class 'list'>, {4: [82]}), 'headquart': defaultdict(<class 'list'>, {4: [83], 6: [554]}), 'waterloo': defaultdict(<class 'list'>, {4: [84]}), 'ontario': defaultdict(<class 'list'>, {4: [85]}), 'canada': defaultdict(<class 'list'>, {4: [86], 9: [140, 183], 10: [6], 11: [27], 14: [6]}), 'record': defaultdict(<class 'list'>, {4: [91, 538, 546], 6: [259, 500]}), 'financi': defaultdict(<class 'list'>, {4: [92], 11: [53, 65], 16: [35], 18: [10]}), 'perform': defaultdict(<class 'list'>, {4: [93, 133, 161], 6: [61, 98, 128, 231], 7: [44], 12: [67], 14: [87, 140], 15: [200, 259]}), '16': defaultdict(<class 'list'>, {4: [94]}), 'year': defaultdict(<class 'list'>, {4: [95], 12: [83], 14: [170, 276]}), 'industri': defaultdict(<class 'list'>, {4: [97], 7: [1, 2], 9: [18]}), 'invest': defaultdict(<class 'list'>, {4: [99, 416]}), 'everi': defaultdict(<class 'list'>, {4: [100], 6: [399], 15: [6]}), 'day': defaultdict(<class 'list'>, {4: [101], 6: [88], 14: [104, 105, 263, 266, 386], 15: [7]}), 'servic': defaultdict(<class 'list'>, {4: [103, 244], 6: [84], 8: [105], 9: [81], 15: [22, 29, 130, 144, 241]}), 'provid': defaultdict(<class 'list'>, {4: [104, 608, 630], 6: [504], 9: [52, 269], 14: [237, 331], 15: [238]}), 'manufactur': defaultdict(<class 'list'>, {4: [105]}), 'distributor': defaultdict(<class 'list'>, {4: [107]}), 'intens': defaultdict(<class 'list'>, {4: [109]}), 'size': defaultdict(<class 'list'>, {4: [111]}), 'reli': defaultdict(<class 'list'>, {4: [112]}), 'scale': defaultdict(<class 'list'>, {4: [113, 139, 384], 17: [7]}), 'stabil': defaultdict(<class 'list'>, {4: [114]}), 'comprehens': defaultdict(<class 'list'>, {4: [115, 322], 14: [271], 15: [118]}), 'footprint': defaultdict(<class 'list'>, {4: [117]}), 'import': defaultdict(<class 'list'>, {4: [119]}), 'www': defaultdict(<class 'list'>, {4: [121, 490], 6: [558]}), 'com': defaultdict(<class 'list'>, {4: [123, 492, 604, 629], 6: [341, 358, 363, 366, 383, 391, 394, 560]}), 'grow': defaultdict(<class 'list'>, {4: [124, 290], 6: [4, 52], 12: [53], 14: [368]}), 'fast': defaultdict(<class 'list'>, {4: [125], 6: [170, 264]}), 'join': defaultdict(<class 'list'>, {4: [127, 306, 355, 382, 390, 461, 498], 6: [39], 12: [52], 14: [71], 15: [82]}), 'amaz': defaultdict(<class 'list'>, {4: [128]}), 'team': defaultdict(<class 'list'>, {4: [129, 171, 307, 370, 413, 467, 499, 514, 537, 554], 6: [41, 70, 112, 141, 275, 327, 381, 400], 8: [90], 9: [246, 254, 283, 305], 11: [40], 12: [54], 14: [73, 241, 294, 370, 399], 15: [8, 131, 276]}), 'qualiti': defaultdict(<class 'list'>, {4: [131, 203, 542], 6: [118], 9: [256, 333]}), 'reliabl': defaultdict(<class 'list'>, {4: [132, 179, 184]}), 'afterthought': defaultdict(<class 'list'>, {4: [134]}), 'foundat': defaultdict(<class 'list'>, {4: [135]}), 'design': defaultdict(<class 'list'>, {4: [136], 6: [95, 110, 132, 216, 235], 7: [47], 8: [69, 71], 9: [62, 93, 261], 14: [106, 121, 215], 18: [7]}), 'build': defaultdict(<class 'list'>, {4: [137, 183, 223], 6: [44, 62, 197], 9: [94], 12: [2, 45], 14: [8, 19, 56, 61, 75, 107], 15: [60]}), 'test': defaultdict(<class 'list'>, {4: [138, 155], 6: [238, 244], 7: [10], 9: [75, 95, 282], 14: [84, 128, 209], 16: [19], 19: [28, 30]}), 'saa': defaultdict(<class 'list'>, {4: [143]}), 'drive': defaultdict(<class 'list'>, {4: [145, 441]}), 'global': defaultdict(<class 'list'>, {4: [146, 226, 397], 11: [22], 14: [22, 36]}), 'forward': defaultdict(<class 'list'>, {4: [150]}), 'whether': defaultdict(<class 'list'>, {4: [151, 279], 14: [326]}), 'write': defaultdict(<class 'list'>, {4: [152], 14: [126]}), 'autom': defaultdict(<class 'list'>, {4: [154, 267], 6: [510], 16: [34], 19: [34]}), 'ensur': defaultdict(<class 'list'>, {4: [158], 6: [126], 14: [98, 141, 317, 349, 407], 15: [139, 187, 229]}), 'system': defaultdict(<class 'list'>, {4: [159], 6: [133, 217], 7: [48], 8: [21], 9: [64, 100, 242]}), 'resili': defaultdict(<class 'list'>, {4: [160], 9: [313]}), 'deliv': defaultdict(<class 'list'>, {4: [164], 6: [72], 9: [255], 14: [122]}), 'except': defaultdict(<class 'list'>, {4: [165], 6: [73, 117]}), 'believ': defaultdict(<class 'list'>, {4: [168], 6: [372], 14: [244, 301]}), 'effort': defaultdict(<class 'list'>, {4: [172], 6: [482]}), 'includ': defaultdict(<class 'list'>, {4: [173, 238], 6: [190, 388, 528], 15: [186]}), 'qa': defaultdict(<class 'list'>, {4: [175]}), 'devop': defaultdict(<class 'list'>, {4: [177]}), 'site': defaultdict(<class 'list'>, {4: [178], 9: [217]}), 'sync': defaultdict(<class 'list'>, {4: [182]}), 'scalabl': defaultdict(<class 'list'>, {4: [185, 253], 6: [64, 129], 14: [109]}), 'alway': defaultdict(<class 'list'>, {4: [187, 190], 15: [64]}), 'ahead': defaultdict(<class 'list'>, {4: [189]}), 'eager': defaultdict(<class 'list'>, {4: [191]}), 'connect': defaultdict(<class 'list'>, {4: [192, 552], 6: [331]}), 'curiou': defaultdict(<class 'list'>, {4: [193]}), 'coachabl': defaultdict(<class 'list'>, {4: [194]}), 'profession': defaultdict(<class 'list'>, {4: [197], 8: [111], 9: [211, 286], 14: [171]}), 'pride': defaultdict(<class 'list'>, {4: [199]}), 'craft': defaultdict(<class 'list'>, {4: [200]}), 'care': defaultdict(<class 'list'>, {4: [201]}), 'deepli': defaultdict(<class 'list'>, {4: [202]}), 'want': defaultdict(<class 'list'>, {4: [204, 516], 14: [232, 306]}), 'prevent': defaultdict(<class 'list'>, {4: [205]}), 'issu': defaultdict(<class 'list'>, {4: [206], 9: [181, 222, 264]}), 'mission': defaultdict(<class 'list'>, {4: [209, 464, 515], 6: [9, 403, 465]}), 'matter': defaultdict(<class 'list'>, {4: [210], 14: [50]}), 'touch': defaultdict(<class 'list'>, {4: [214]}), 'everyth': defaultdict(<class 'list'>, {4: [215], 14: [248]}), 'food': defaultdict(<class 'list'>, {4: [216]}), 'shelv': defaultdict(<class 'list'>, {4: [218]}), 'border': defaultdict(<class 'list'>, {4: [222]}), 'softwar': defaultdict(<class 'list'>, {4: [224], 6: [37, 498], 8: [0, 11, 72, 106], 12: [55], 14: [20], 18: [0]}), 'commerc': defaultdict(<class 'list'>, {4: [227], 17: [15]}), 'run': defaultdict(<class 'list'>, {4: [228], 9: [67], 15: [231]}), 'smoothli': defaultdict(<class 'list'>, {4: [229], 15: [232]}), 'focus': defaultdict(<class 'list'>, {4: [231, 414], 6: [71], 15: [255]}), 'environ': defaultdict(<class 'list'>, {4: [232, 431], 6: [173, 268], 9: [76], 14: [374], 15: [91]}), 'shop': defaultdict(<class 'list'>, {4: [234], 15: [141]}), 'latest': defaultdict(<class 'list'>, {4: [236]}), 'net': defaultdict(<class 'list'>, {4: [239]}), 'microservic': defaultdict(<class 'list'>, {4: [245]}), 'architectur': defaultdict(<class 'list'>, {4: [246], 6: [77, 122, 213]}), 'nativ': defaultdict(<class 'list'>, {4: [248], 14: [70, 94, 111, 177, 189]}), 'passion': defaultdict(<class 'list'>, {4: [250, 379], 6: [58], 15: [4]}), 'clean': defaultdict(<class 'list'>, {4: [251], 8: [40]}), 'fit': defaultdict(<class 'list'>, {4: [255, 520]}), 'right': defaultdict(<class 'list'>, {4: [256]}), 'integr': defaultdict(<class 'list'>, {4: [259, 299], 6: [287], 9: [73], 14: [197, 253]}), 'artifici': defaultdict(<class 'list'>, {4: [260]}), 'bring': defaultdict(<class 'list'>, {4: [264], 6: [113], 14: [339], 15: [13]}), 'predict': defaultdict(<class 'list'>, {4: [265], 7: [32], 17: [40]}), 'decis': defaultdict(<class 'list'>, {4: [268]}), 'us': defaultdict(<class 'list'>, {4: [273, 383, 626], 6: [43, 377, 425, 437], 14: [338, 413, 418]}), 'push': defaultdict(<class 'list'>, {4: [274], 14: [200]}), 'boundari': defaultdict(<class 'list'>, {4: [275]}), 'possibl': defaultdict(<class 'list'>, {4: [276, 643]}), 'growth': defaultdict(<class 'list'>, {4: [278], 6: [267], 11: [39]}), 'earli': defaultdict(<class 'list'>, {4: [280]}), 'journey': defaultdict(<class 'list'>, {4: [281], 9: [23]}), 'alreadi': defaultdict(<class 'list'>, {4: [282]}), 'expert': defaultdict(<class 'list'>, {4: [283]}), 'offer': defaultdict(<class 'list'>, {4: [284, 451], 6: [413], 12: [10], 14: [327], 15: [30]}), 'mentorship': defaultdict(<class 'list'>, {4: [285]}), 'technic': defaultdict(<class 'list'>, {4: [293], 9: [53, 61, 210, 224, 231, 235, 260, 266, 270, 285]}), 'leadership': defaultdict(<class 'list'>, {4: [294], 8: [50], 9: [330]}), 'track': defaultdict(<class 'list'>, {4: [295], 6: [258], 7: [41], 16: [42], 19: [37]}), 'valu': defaultdict(<class 'list'>, {4: [298, 411, 558], 6: [489], 15: [66]}), 'collabor': defaultdict(<class 'list'>, {4: [300, 351, 388], 6: [69, 92, 107, 222, 271], 8: [89], 9: [10, 253], 14: [116, 224]}), 'curios': defaultdict(<class 'list'>, {4: [301], 9: [319]}), 'account': defaultdict(<class 'list'>, {4: [302]}), 'word': defaultdict(<class 'list'>, {4: [303]}), 'live': defaultdict(<class 'list'>, {4: [304], 15: [70]}), 'daili': defaultdict(<class 'list'>, {4: [305]}), 'idea': defaultdict(<class 'list'>, {4: [308, 447], 15: [58]}), 'heard': defaultdict(<class 'list'>, {4: [309, 435], 15: [65]}), 'meaning': defaultdict(<class 'list'>, {4: [311], 9: [32]}), 'priorit': defaultdict(<class 'list'>, {4: [313, 426]}), 'compens': defaultdict(<class 'list'>, {4: [314, 453]}), 'benefit': defaultdict(<class 'list'>, {4: [315, 455], 6: [395, 458], 15: [87, 99]}), 'salari': defaultdict(<class 'list'>, {4: [316, 319], 15: [105]}), 'health': defaultdict(<class 'list'>, {4: [320], 14: [51, 251, 255], 17: [38]}), 'well': defaultdict(<class 'list'>, {4: [321], 14: [127, 262], 15: [46, 148, 189]}), 'medic': defaultdict(<class 'list'>, {4: [323], 6: [415], 12: [4, 35], 14: [272]}), 'dental': defaultdict(<class 'list'>, {4: [324], 6: [416], 14: [273]}), 'vision': defaultdict(<class 'list'>, {4: [325], 6: [417]}), 'coverag': defaultdict(<class 'list'>, {4: [326], 14: [274]}), 'retir': defaultdict(<class 'list'>, {4: [327]}), 'plan': defaultdict(<class 'list'>, {4: [328], 6: [419], 7: [38], 14: [283]}), 'match': defaultdict(<class 'list'>, {4: [330, 365], 15: [81]}), 'gener': defaultdict(<class 'list'>, {4: [333, 545], 6: [5]}), 'vacat': defaultdict(<class 'list'>, {4: [334], 14: [258]}), 'holiday': defaultdict(<class 'list'>, {4: [335], 6: [427, 430]}), 'hybrid': defaultdict(<class 'list'>, {4: [339], 6: [85], 9: [20], 14: [229]}), 'remot': defaultdict(<class 'list'>, {4: [340, 456], 11: [34], 14: [5]}), 'option': defaultdict(<class 'list'>, {4: [342]}), 'avail': defaultdict(<class 'list'>, {4: [343], 15: [180, 224]}), 'perk': defaultdict(<class 'list'>, {4: [344], 6: [396, 459]}), 'program': defaultdict(<class 'list'>, {4: [347], 6: [444, 446], 8: [3], 11: [57], 14: [183], 15: [120, 125]}), 'cut': defaultdict(<class 'list'>, {4: [348]}), 'edg': defaultdict(<class 'list'>, {4: [349], 6: [304]}), 'tool': defaultdict(<class 'list'>, {4: [350], 6: [198, 225, 239], 8: [36], 9: [77], 15: [56], 19: [9]}), 'among': defaultdict(<class 'list'>, {4: [359]}), 'first': defaultdict(<class 'list'>, {4: [360], 11: [35], 14: [394]}), 'hear': defaultdict(<class 'list'>, {4: [361]}), 'open': defaultdict(<class 'list'>, {4: [364], 6: [334]}), 'background': defaultdict(<class 'list'>, {4: [366]}), 'interest': defaultdict(<class 'list'>, {4: [367], 14: [289]}), 'acquisit': defaultdict(<class 'list'>, {4: [369]}), 'review': defaultdict(<class 'list'>, {4: [371, 598], 14: [296], 15: [106]}), 'resum': defaultdict(<class 'list'>, {4: [372]}), 'align': defaultdict(<class 'list'>, {4: [373], 9: [237]}), 'introductori': defaultdict(<class 'list'>, {4: [375]}), 'convers': defaultdict(<class 'list'>, {4: [376], 16: [27]}), 'futur': defaultdict(<class 'list'>, {4: [380], 6: [82], 12: [17, 32], 14: [282]}), 'goal': defaultdict(<class 'list'>, {4: [381], 6: [397]}), 'doer': defaultdict(<class 'list'>, {4: [387]}), 'leader': defaultdict(<class 'list'>, {4: [398]}), 'entrepreneuri': defaultdict(<class 'list'>, {4: [403]}), 'hardwork': defaultdict(<class 'list'>, {4: [404]}), 'geeki': defaultdict(<class 'list'>, {4: [405]}), 'problem': defaultdict(<class 'list'>, {4: [408], 8: [15, 100]}), 'solver': defaultdict(<class 'list'>, {4: [409]}), 'guid': defaultdict(<class 'list'>, {4: [410], 15: [134]}), 'nurtur': defaultdict(<class 'list'>, {4: [412]}), 'creat': defaultdict(<class 'list'>, {4: [418], 14: [15, 63, 372]}), 'broad': defaultdict(<class 'list'>, {4: [422]}), 'spectrum': defaultdict(<class 'list'>, {4: [423]}), 'life': defaultdict(<class 'list'>, {4: [428], 6: [116], 11: [62], 15: [15, 94]}), 'balanc': defaultdict(<class 'list'>, {4: [429], 15: [95]}), 'foster': defaultdict(<class 'list'>, {4: [430], 6: [404]}), 'space': defaultdict(<class 'list'>, {4: [432]}), 'ownership': defaultdict(<class 'list'>, {4: [434]}), 'carv': defaultdict(<class 'list'>, {4: [436]}), 'individu': defaultdict(<class 'list'>, {4: [438]}), 'accomplish': defaultdict(<class 'list'>, {4: [439]}), 'everyon': defaultdict(<class 'list'>, {4: [444], 14: [14, 375]}), 'voic': defaultdict(<class 'list'>, {4: [445], 15: [63]}), 'best': defaultdict(<class 'list'>, {4: [446], 6: [158, 288, 511], 14: [57, 234, 242, 336, 411]}), 'win': defaultdict(<class 'list'>, {4: [448]}), 'regardless': defaultdict(<class 'list'>, {4: [449], 6: [406], 15: [296]}), 'make': defaultdict(<class 'list'>, {4: [450], 9: [31], 12: [28], 14: [321, 414], 15: [17, 251]}), 'awesom': defaultdict(<class 'list'>, {4: [463]}), 'exist': defaultdict(<class 'list'>, {4: [466], 9: [98]}), 'trajectori': defaultdict(<class 'list'>, {4: [468]}), 'also': defaultdict(<class 'list'>, {4: [470], 9: [85]}), 'sens': defaultdict(<class 'list'>, {4: [472]}), 'environment': defaultdict(<class 'list'>, {4: [473, 496]}), 'respons': defaultdict(<class 'list'>, {4: [474, 494], 6: [119, 148, 234], 9: [46, 66, 86], 12: [63], 14: [24, 82, 217, 381]}), 'save': defaultdict(<class 'list'>, {4: [478]}), '552': defaultdict(<class 'list'>, {4: [479]}), 'metric': defaultdict(<class 'list'>, {4: [481], 11: [18]}), 'ton': defaultdict(<class 'list'>, {4: [482]}), 'co2': defaultdict(<class 'list'>, {4: [483]}), '2020': defaultdict(<class 'list'>, {4: [484]}), 'reduc': defaultdict(<class 'list'>, {4: [485], 6: [480]}), 'fuel': defaultdict(<class 'list'>, {4: [486]}), 'paper': defaultdict(<class 'list'>, {4: [487]}), 'consumpt': defaultdict(<class 'list'>, {4: [488]}), 'http': defaultdict(<class 'list'>, {4: [489], 6: [338]}), 'social': defaultdict(<class 'list'>, {4: [493], 9: [331]}), 'sustain': defaultdict(<class 'list'>, {4: [495, 506], 14: [53]}), 'commit': defaultdict(<class 'list'>, {4: [500, 593, 606], 6: [565], 14: [348], 15: [16, 237, 287]}), 'conserv': defaultdict(<class 'list'>, {4: [503]}), 'resourc': defaultdict(<class 'list'>, {4: [504], 18: [18]}), 'feel': defaultdict(<class 'list'>, {4: [507], 14: [290, 376]}), '70': defaultdict(<class 'list'>, {4: [508]}), 'sound': defaultdict(<class 'list'>, {4: [512]}), 'like': defaultdict(<class 'list'>, {4: [513], 6: [180, 184, 192, 199, 226, 309, 346]}), 'part': defaultdict(<class 'list'>, {4: [517, 621], 6: [49, 67], 12: [1]}), 'appli': defaultdict(<class 'list'>, {4: [518], 6: [473], 9: [56, 240], 13: [36], 14: [380], 15: [103]}), 'promis': defaultdict(<class 'list'>, {4: [519, 521]}), 'consid': defaultdict(<class 'list'>, {4: [522], 14: [308], 15: [292]}), 'covid': defaultdict(<class 'list'>, {4: [524]}), '19': defaultdict(<class 'list'>, {4: [525]}), 'implement': defaultdict(<class 'list'>, {4: [526], 6: [96]}), 'virtual': defaultdict(<class 'list'>, {4: [527]}), 'process': defaultdict(<class 'list'>, {4: [529, 550, 624, 639], 9: [244, 299], 14: [154, 388, 409], 15: [281], 16: [10, 33]}), 'continu': defaultdict(<class 'list'>, {4: [530], 14: [161, 371]}), 'interview': defaultdict(<class 'list'>, {4: [531, 539, 557], 14: [387, 396, 401], 15: [272, 279]}), 'onboard': defaultdict(<class 'list'>, {4: [532]}), 'candid': defaultdict(<class 'list'>, {4: [533], 6: [315], 9: [175, 185], 14: [350], 15: [295]}), 'video': defaultdict(<class 'list'>, {4: [534]}), 'strictli': defaultdict(<class 'list'>, {4: [541]}), 'assur': defaultdict(<class 'list'>, {4: [543]}), 'train': defaultdict(<class 'list'>, {4: [544], 12: [30], 15: [117, 119, 225]}), 'purpos': defaultdict(<class 'list'>, {4: [548]}), 'question': defaultdict(<class 'list'>, {4: [549]}), 'pleas': defaultdict(<class 'list'>, {4: [551, 597], 6: [328, 375, 456], 14: [416], 15: [273, 291]}), 'schedul': defaultdict(<class 'list'>, {4: [556]}), 'safeti': defaultdict(<class 'list'>, {4: [559], 14: [52, 99]}), 'member': defaultdict(<class 'list'>, {4: [560], 6: [401], 9: [306], 15: [128]}), 'know': defaultdict(<class 'list'>, {4: [562], 6: [329], 14: [307, 419]}), 'togeth': defaultdict(<class 'list'>, {4: [563], 6: [448]}), 'equal': defaultdict(<class 'list'>, {4: [564, 594], 6: [562], 14: [345]}), 'employ': defaultdict(<class 'list'>, {4: [565, 566, 595], 6: [564], 9: [110, 135], 14: [347], 15: [112], 19: [5]}), 'discrimin': defaultdict(<class 'list'>, {4: [567], 6: [569], 14: [351]}), 'basi': defaultdict(<class 'list'>, {4: [569, 649]}), 'sex': defaultdict(<class 'list'>, {4: [570], 14: [366]}), 'gender': defaultdict(<class 'list'>, {4: [571], 6: [576], 14: [352], 15: [302]}), 'ident': defaultdict(<class 'list'>, {4: [572], 14: [353]}), 'sexual': defaultdict(<class 'list'>, {4: [573], 6: [577], 14: [358], 15: [300]}), 'orient': defaultdict(<class 'list'>, {4: [574], 6: [578], 14: [359], 15: [301]}), 'race': defaultdict(<class 'list'>, {4: [575], 6: [571], 14: [355], 15: [297]}), 'color': defaultdict(<class 'list'>, {4: [576], 6: [573], 8: [83]}), 'religi': defaultdict(<class 'list'>, {4: [577]}), 'creed': defaultdict(<class 'list'>, {4: [578], 14: [363]}), 'nation': defaultdict(<class 'list'>, {4: [579], 6: [574], 9: [121, 129], 14: [364], 15: [303]}), 'origin': defaultdict(<class 'list'>, {4: [580], 6: [575], 14: [365]}), 'physic': defaultdict(<class 'list'>, {4: [581]}), 'mental': defaultdict(<class 'list'>, {4: [582], 14: [254]}), 'disabl': defaultdict(<class 'list'>, {4: [583, 613, 617], 6: [584], 14: [356], 15: [305]}), 'protect': defaultdict(<class 'list'>, {4: [584, 587], 14: [38], 15: [306]}), 'statu': defaultdict(<class 'list'>, {4: [585], 6: [581, 583, 585], 15: [307]}), 'characterist': defaultdict(<class 'list'>, {4: [586]}), 'feder': defaultdict(<class 'list'>, {4: [588]}), 'provinci': defaultdict(<class 'list'>, {4: [589]}), 'local': defaultdict(<class 'list'>, {4: [590]}), 'law': defaultdict(<class 'list'>, {4: [591], 6: [25, 516, 523]}), 'conduct': defaultdict(<class 'list'>, {4: [601]}), 'ethic': defaultdict(<class 'list'>, {4: [602], 14: [54]}), 'reason': defaultdict(<class 'list'>, {4: [609, 619, 644]}), 'accommod': defaultdict(<class 'list'>, {4: [610, 620, 635, 645], 15: [278]}), 'applic': defaultdict(<class 'list'>, {4: [612, 614, 622, 638], 6: [66, 144, 284], 9: [49, 58, 65, 68, 99, 241], 14: [89, 112, 297, 309, 382], 15: [217, 293]}), 'north': defaultdict(<class 'list'>, {4: [615], 9: [160]}), 'america': defaultdict(<class 'list'>, {4: [616], 6: [545]}), 'email': defaultdict(<class 'list'>, {4: [625], 6: [354, 367, 378, 386]}), 'hrna': defaultdict(<class 'list'>, {4: [627]}), 'name': defaultdict(<class 'list'>, {4: [631]}), 'contact': defaultdict(<class 'list'>, {4: [632], 15: [173]}), 'along': defaultdict(<class 'list'>, {4: [634]}), 'assist': defaultdict(<class 'list'>, {4: [637], 14: [155], 15: [158]}), 'request': defaultdict(<class 'list'>, {4: [640]}), 'soon': defaultdict(<class 'list'>, {4: [642]}), 'case': defaultdict(<class 'list'>, {4: [647, 648], 6: [22, 471, 484]}), 'snowflak': defaultdict(<class 'list'>, {5: [4]}), 'databrick': defaultdict(<class 'list'>, {5: [5]}), 'rbc': defaultdict(<class 'list'>, {5: [9], 11: [41]}), 'capit': defaultdict(<class 'list'>, {5: [10], 6: [533]}), 'scala': defaultdict(<class 'list'>, {5: [16]}), 'etl': defaultdict(<class 'list'>, {5: [17]}), 'pipelin': defaultdict(<class 'list'>, {5: [18], 6: [256]}), 'airflow': defaultdict(<class 'list'>, {5: [19]}), 'dbt': defaultdict(<class 'list'>, {5: [20]}), 'big': defaultdict(<class 'list'>, {5: [21], 15: [38]}), 'spark': defaultdict(<class 'list'>, {5: [23]}), 'hadoop': defaultdict(<class 'list'>, {5: [24]}), 'gcp': defaultdict(<class 'list'>, {5: [27]}), 'architect': defaultdict(<class 'list'>, {5: [36]}), 'evenup': defaultdict(<class 'list'>, {6: [1, 103, 316, 342, 352, 359, 374, 463, 464, 472, 518, 539, 550, 561]}), 'fastest': defaultdict(<class 'list'>, {6: [3]}), 'startup': defaultdict(<class 'list'>, {6: [7, 172], 10: [13]}), 'histori': defaultdict(<class 'list'>, {6: [8]}), 'level': defaultdict(<class 'list'>, {6: [10, 409, 466], 9: [48], 12: [58], 15: [194, 199]}), 'play': defaultdict(<class 'list'>, {6: [11, 162, 467], 14: [160]}), 'field': defaultdict(<class 'list'>, {6: [12, 468], 14: [102]}), 'injuri': defaultdict(<class 'list'>, {6: [14, 470, 488, 515, 522, 548]}), 'victim': defaultdict(<class 'list'>, {6: [15]}), 'rang': defaultdict(<class 'list'>, {6: [16, 541], 15: [34]}), 'motor': defaultdict(<class 'list'>, {6: [17]}), 'vehicl': defaultdict(<class 'list'>, {6: [18]}), 'accid': defaultdict(<class 'list'>, {6: [19]}), 'child': defaultdict(<class 'list'>, {6: [20]}), 'abus': defaultdict(<class 'list'>, {6: [21]}), 'empow': defaultdict(<class 'list'>, {6: [24, 398], 14: [378]}), 'firm': defaultdict(<class 'list'>, {6: [26, 517, 524, 549]}), 'faster': defaultdict(<class 'list'>, {6: [28]}), 'settlement': defaultdict(<class 'list'>, {6: [29]}), 'higher': defaultdict(<class 'list'>, {6: [30]}), 'payout': defaultdict(<class 'list'>, {6: [31]}), 'outcom': defaultdict(<class 'list'>, {6: [33, 485]}), 'seek': defaultdict(<class 'list'>, {6: [35], 12: [46]}), 'frontend': defaultdict(<class 'list'>, {6: [36, 121, 138, 160, 178, 212, 237, 251]}), 'toronto': defaultdict(<class 'list'>, {6: [40, 54, 93, 455]}), 'class': defaultdict(<class 'list'>, {6: [46, 512], 14: [58]}), 'organ': defaultdict(<class 'list'>, {6: [48], 15: [62, 149]}), 'canadian': defaultdict(<class 'list'>, {6: [50, 428], 9: [113, 115, 124, 126, 194]}), 'expans': defaultdict(<class 'list'>, {6: [51]}), 'presenc': defaultdict(<class 'list'>, {6: [53]}), 'area': defaultdict(<class 'list'>, {6: [55, 451], 15: [188]}), 'beauti': defaultdict(<class 'list'>, {6: [63]}), 'web': defaultdict(<class 'list'>, {6: [65, 143, 230]}), 'ui': defaultdict(<class 'list'>, {6: [74, 220], 14: [218]}), 'side': defaultdict(<class 'list'>, {6: [76]}), 'platform': defaultdict(<class 'list'>, {6: [80, 106, 308, 503], 9: [41], 14: [115]}), 'redefin': defaultdict(<class 'list'>, {6: [81]}), 'legal': defaultdict(<class 'list'>, {6: [83, 494]}), 'spent': defaultdict(<class 'list'>, {6: [91]}), 'access': defaultdict(<class 'list'>, {6: [99, 146, 232], 15: [151, 284]}), 'eleg': defaultdict(<class 'list'>, {6: [100]}), 'interfac': defaultdict(<class 'list'>, {6: [102], 9: [63]}), 'close': defaultdict(<class 'list'>, {6: [108], 9: [9], 14: [404]}), 'backend': defaultdict(<class 'list'>, {6: [111, 286], 14: [117]}), 'featur': defaultdict(<class 'list'>, {6: [115], 13: [22], 14: [125]}), 'major': defaultdict(<class 'list'>, {6: [123]}), 'surfac': defaultdict(<class 'list'>, {6: [125]}), 'maintain': defaultdict(<class 'list'>, {6: [127, 131], 14: [85, 108, 130, 145], 15: [183]}), 'compon': defaultdict(<class 'list'>, {6: [134, 195, 218, 303]}), 'share': defaultdict(<class 'list'>, {6: [135]}), 'librari': defaultdict(<class 'list'>, {6: [136, 219, 245], 14: [204]}), 'streamlin': defaultdict(<class 'list'>, {6: [137]}), 'optim': defaultdict(<class 'list'>, {6: [142], 7: [36], 11: [10], 13: [31], 14: [138], 16: [32]}), 'speed': defaultdict(<class 'list'>, {6: [145]}), 'seo': defaultdict(<class 'list'>, {6: [147]}), 'devic': defaultdict(<class 'list'>, {6: [150]}), 'browser': defaultdict(<class 'list'>, {6: [151]}), 'mentor': defaultdict(<class 'list'>, {6: [155]}), 'peer': defaultdict(<class 'list'>, {6: [156]}), 'promot': defaultdict(<class 'list'>, {6: [157], 15: [92, 209]}), 'practic': defaultdict(<class 'list'>, {6: [159, 289]}), 'key': defaultdict(<class 'list'>, {6: [163], 16: [5]}), 'ideat': defaultdict(<class 'list'>, {6: [168]}), 'modern': defaultdict(<class 'list'>, {6: [177, 196, 211], 14: [133]}), 'react': defaultdict(<class 'list'>, {6: [181, 243], 14: [69, 93, 110, 176, 187]}), 'similar': defaultdict(<class 'list'>, {6: [182]}), 'framework': defaultdict(<class 'list'>, {6: [183, 297], 14: [210]}), 'vue': defaultdict(<class 'list'>, {6: [185]}), 'svelt': defaultdict(<class 'list'>, {6: [186]}), 'html5': defaultdict(<class 'list'>, {6: [188]}), 'css3': defaultdict(<class 'list'>, {6: [189]}), 'preprocessor': defaultdict(<class 'list'>, {6: [191]}), 'sass': defaultdict(<class 'list'>, {6: [193]}), 'style': defaultdict(<class 'list'>, {6: [194]}), 'vite': defaultdict(<class 'list'>, {6: [200]}), 'webpack': defaultdict(<class 'list'>, {6: [201]}), 'understand': defaultdict(<class 'list'>, {6: [203, 229], 8: [82], 9: [89, 230, 249], 14: [179], 15: [216]}), 'state': defaultdict(<class 'list'>, {6: [204], 9: [174]}), 'e': defaultdict(<class 'list'>, {6: [206, 240, 290, 298], 8: [5, 22, 56, 73], 17: [14]}), 'g': defaultdict(<class 'list'>, {6: [207, 241, 291, 299], 8: [6, 23, 57, 74]}), 'redux': defaultdict(<class 'list'>, {6: [208]}), 'zustand': defaultdict(<class 'list'>, {6: [209]}), 'jotai': defaultdict(<class 'list'>, {6: [210]}), 'pattern': defaultdict(<class 'list'>, {6: [214], 14: [216]}), 'ux': defaultdict(<class 'list'>, {6: [221]}), 'workflow': defaultdict(<class 'list'>, {6: [223, 509], 16: [31]}), 'figma': defaultdict(<class 'list'>, {6: [227]}), 'solid': defaultdict(<class 'list'>, {6: [228]}), 'a11i': defaultdict(<class 'list'>, {6: [233]}), 'jest': defaultdict(<class 'list'>, {6: [242]}), 'cypress': defaultdict(<class 'list'>, {6: [246]}), 'version': defaultdict(<class 'list'>, {6: [247], 8: [19]}), 'control': defaultdict(<class 'list'>, {6: [248], 8: [20], 9: [197, 334]}), 'git': defaultdict(<class 'list'>, {6: [249], 8: [24], 14: [206]}), 'familiar': defaultdict(<class 'list'>, {6: [250, 295], 8: [18], 14: [188]}), 'strategi': defaultdict(<class 'list'>, {6: [253]}), 'ci': defaultdict(<class 'list'>, {6: [254], 13: [26], 14: [207]}), 'cd': defaultdict(<class 'list'>, {6: [255], 13: [27], 14: [208]}), 'proven': defaultdict(<class 'list'>, {6: [257], 9: [203]}), 'ship': defaultdict(<class 'list'>, {6: [260], 11: [23]}), 'face': defaultdict(<class 'list'>, {6: [262], 13: [9]}), 'cross': defaultdict(<class 'list'>, {6: [273]}), 'function': defaultdict(<class 'list'>, {6: [274], 9: [59]}), 'bonu': defaultdict(<class 'list'>, {6: [276]}), 'point': defaultdict(<class 'list'>, {6: [277]}), 'heavi': defaultdict(<class 'list'>, {6: [283], 15: [268], 16: [38]}), 'knowledg': defaultdict(<class 'list'>, {6: [285], 8: [28], 9: [57, 72, 267], 14: [205], 15: [215]}), 'graphql': defaultdict(<class 'list'>, {6: [292]}), 'rest': defaultdict(<class 'list'>, {6: [293]}), 'api': defaultdict(<class 'list'>, {6: [294], 14: [198]}), 'ssr': defaultdict(<class 'list'>, {6: [296]}), 'next': defaultdict(<class 'list'>, {6: [300]}), 'js': defaultdict(<class 'list'>, {6: [301]}), 'server': defaultdict(<class 'list'>, {6: [302]}), 'render': defaultdict(<class 'list'>, {6: [305]}), 'vercel': defaultdict(<class 'list'>, {6: [310]}), 'netlifi': defaultdict(<class 'list'>, {6: [311]}), 'amplifi': defaultdict(<class 'list'>, {6: [313]}), 'notic': defaultdict(<class 'list'>, {6: [314]}), 'made': defaultdict(<class 'list'>, {6: [317]}), 'awar': defaultdict(<class 'list'>, {6: [318], 9: [318]}), 'fraudul': defaultdict(<class 'list'>, {6: [319, 385]}), 'post': defaultdict(<class 'list'>, {6: [321, 333]}), 'unaffili': defaultdict(<class 'list'>, {6: [322]}), 'third': defaultdict(<class 'list'>, {6: [323], 9: [120, 307], 14: [202]}), 'parti': defaultdict(<class 'list'>, {6: [324], 9: [308], 14: [203]}), 'pose': defaultdict(<class 'list'>, {6: [325]}), 'recruit': defaultdict(<class 'list'>, {6: [326, 353], 14: [293, 393]}), 'affili': defaultdict(<class 'list'>, {6: [330], 15: [24]}), 'situat': defaultdict(<class 'list'>, {6: [332], 8: [110]}), 'page': defaultdict(<class 'list'>, {6: [337, 350]}), 'ashbyhq': defaultdict(<class 'list'>, {6: [340, 365]}), 'reput': defaultdict(<class 'list'>, {6: [343]}), 'board': defaultdict(<class 'list'>, {6: [345], 10: [10]}), 'offici': defaultdict(<class 'list'>, {6: [347, 351]}), 'linkedin': defaultdict(<class 'list'>, {6: [348], 10: [2], 14: [284]}), 'inde': defaultdict(<class 'list'>, {6: [349], 10: [5]}), 'come': defaultdict(<class 'list'>, {6: [355]}), 'evenuplaw': defaultdict(<class 'list'>, {6: [357, 362, 382, 390, 393, 559]}), 'ext': defaultdict(<class 'list'>, {6: [361]}), 'repli': defaultdict(<class 'list'>, {6: [364]}), 'address': defaultdict(<class 'list'>, {6: [368]}), 'receiv': defaultdict(<class 'list'>, {6: [369]}), 'someon': defaultdict(<class 'list'>, {6: [371], 12: [49]}), 'imperson': defaultdict(<class 'list'>, {6: [373]}), 'report': defaultdict(<class 'list'>, {6: [376], 16: [13], 19: [32, 35]}), 'exampl': defaultdict(<class 'list'>, {6: [384]}), 'end': defaultdict(<class 'list'>, {6: [411], 14: [275]}), 'preview': defaultdict(<class 'list'>, {6: [412]}), 'choic': defaultdict(<class 'list'>, {6: [414]}), 'insur': defaultdict(<class 'list'>, {6: [418], 7: [29], 11: [63], 15: [100]}), 'famili': defaultdict(<class 'list'>, {6: [420], 15: [84]}), 'paid': defaultdict(<class 'list'>, {6: [422, 440]}), '10': defaultdict(<class 'list'>, {6: [424]}), 'observ': defaultdict(<class 'list'>, {6: [426]}), 'statutori': defaultdict(<class 'list'>, {6: [429]}), 'provinc': defaultdict(<class 'list'>, {6: [431]}), 'home': defaultdict(<class 'list'>, {6: [432]}), 'stipend': defaultdict(<class 'list'>, {6: [434]}), '401': defaultdict(<class 'list'>, {6: [435]}), 'k': defaultdict(<class 'list'>, {6: [436]}), 'employe': defaultdict(<class 'list'>, {6: [439, 462], 12: [81], 15: [2, 97]}), 'parent': defaultdict(<class 'list'>, {6: [441]}), 'leav': defaultdict(<class 'list'>, {6: [442]}), 'sabbat': defaultdict(<class 'list'>, {6: [443]}), 'meet': defaultdict(<class 'list'>, {6: [445], 8: [87], 14: [291, 311], 15: [49, 283]}), 'colleagu': defaultdict(<class 'list'>, {6: [450]}), 'san': defaultdict(<class 'list'>, {6: [453, 555]}), 'francisco': defaultdict(<class 'list'>, {6: [454, 556]}), 'known': defaultdict(<class 'list'>, {6: [478]}), 'piai': defaultdict(<class 'list'>, {6: [479]}), 'manual': defaultdict(<class 'list'>, {6: [481]}), 'maxim': defaultdict(<class 'list'>, {6: [483]}), 'hous': defaultdict(<class 'list'>, {6: [492]}), 'human': defaultdict(<class 'list'>, {6: [493], 18: [17]}), 'proprietari': defaultdict(<class 'list'>, {6: [496]}), 'analyz': defaultdict(<class 'list'>, {6: [499], 9: [220]}), 'claim': defaultdict(<class 'list'>, {6: [501], 7: [30], 17: [37]}), 'rich': defaultdict(<class 'list'>, {6: [505]}), 'creation': defaultdict(<class 'list'>, {6: [514]}), 'trust': defaultdict(<class 'list'>, {6: [519]}), 'back': defaultdict(<class 'list'>, {6: [525], 14: [269]}), 'vc': defaultdict(<class 'list'>, {6: [527]}), 'bessem': defaultdict(<class 'list'>, {6: [529]}), 'ventur': defaultdict(<class 'list'>, {6: [530, 534]}), 'bain': defaultdict(<class 'list'>, {6: [532]}), 'bcv': defaultdict(<class 'list'>, {6: [535]}), 'signalfir': defaultdict(<class 'list'>, {6: [536]}), 'nfx': defaultdict(<class 'list'>, {6: [537]}), 'dcm': defaultdict(<class 'list'>, {6: [538]}), 'trial': defaultdict(<class 'list'>, {6: [543], 17: [32]}), 'attorney': defaultdict(<class 'list'>, {6: [544]}), 'largest': defaultdict(<class 'list'>, {6: [546]}), 'found': defaultdict(<class 'list'>, {6: [551], 12: [39]}), 'late': defaultdict(<class 'list'>, {6: [552]}), '2019': defaultdict(<class 'list'>, {6: [553]}), 'inclus': defaultdict(<class 'list'>, {6: [567], 14: [373], 15: [88, 290]}), 'religion': defaultdict(<class 'list'>, {6: [572], 15: [299]}), 'age': defaultdict(<class 'list'>, {6: [579], 14: [360], 15: [304]}), 'marit': defaultdict(<class 'list'>, {6: [580]}), 'veteran': defaultdict(<class 'list'>, {6: [582]}), 'varieti': defaultdict(<class 'list'>, {7: [0]}), 'tech': defaultdict(<class 'list'>, {7: [6], 14: [60]}), 'b': defaultdict(<class 'list'>, {7: [9], 16: [18], 19: [27]}), 'usag': defaultdict(<class 'list'>, {7: [12], 16: [17]}), 'credit': defaultdict(<class 'list'>, {7: [14]}), 'churn': defaultdict(<class 'list'>, {7: [17]}), 'sale': defaultdict(<class 'list'>, {7: [21], 18: [15]}), 'forecast': defaultdict(<class 'list'>, {7: [22], 16: [39]}), 'segment': defaultdict(<class 'list'>, {7: [24]}), 'healthcar': defaultdict(<class 'list'>, {7: [25], 12: [18], 17: [21]}), 'clinic': defaultdict(<class 'list'>, {7: [26], 17: [27]}), 'cost': defaultdict(<class 'list'>, {7: [31]}), 'rout': defaultdict(<class 'list'>, {7: [37], 11: [9]}), 'real': defaultdict(<class 'list'>, {7: [39], 11: [6]}), 'campaign': defaultdict(<class 'list'>, {7: [43], 16: [24]}), 'attribut': defaultdict(<class 'list'>, {7: [45]}), 'lifecycl': defaultdict(<class 'list'>, {8: [13], 14: [220]}), 'solv': defaultdict(<class 'list'>, {8: [16, 101]}), 'visual': defaultdict(<class 'list'>, {8: [35], 19: [18]}), 'abil': defaultdict(<class 'list'>, {8: [41, 63, 64, 86, 102, 107], 9: [28, 290], 15: [145, 258]}), 'interpret': defaultdict(<class 'list'>, {8: [42]}), 'organiz': defaultdict(<class 'list'>, {8: [49]}), 'methodolog': defaultdict(<class 'list'>, {8: [55], 14: [212]}), 'interperson': defaultdict(<class 'list'>, {8: [62], 15: [245]}), 'budget': defaultdict(<class 'list'>, {8: [66], 16: [41]}), 'timelin': defaultdict(<class 'list'>, {8: [67]}), 'graphic': defaultdict(<class 'list'>, {8: [68], 18: [6]}), 'adob': defaultdict(<class 'list'>, {8: [75]}), 'photoshop': defaultdict(<class 'list'>, {8: [76]}), 'illustr': defaultdict(<class 'list'>, {8: [77]}), 'portfolio': defaultdict(<class 'list'>, {8: [79], 9: [44]}), 'creativ': defaultdict(<class 'list'>, {8: [80], 9: [311]}), 'theori': defaultdict(<class 'list'>, {8: [84]}), 'typographi': defaultdict(<class 'list'>, {8: [85]}), 'deadlin': defaultdict(<class 'list'>, {8: [88]}), 'support': defaultdict(<class 'list'>, {8: [92], 9: [54, 80, 82, 281], 14: [21, 152, 240, 257, 329, 333], 18: [13]}), 'repres': defaultdict(<class 'list'>, {8: [93], 18: [14]}), 'verbal': defaultdict(<class 'list'>, {8: [95], 9: [275]}), 'written': defaultdict(<class 'list'>, {8: [96], 9: [276]}), 'patienc': defaultdict(<class 'list'>, {8: [99]}), 'handl': defaultdict(<class 'list'>, {8: [108]}), 'difficult': defaultdict(<class 'list'>, {8: [109]}), 'introduct': defaultdict(<class 'list'>, {9: [1]}), 'root': defaultdict(<class 'list'>, {9: [5]}), 'long': defaultdict(<class 'list'>, {9: [6]}), 'term': defaultdict(<class 'list'>, {9: [7]}), 'relationship': defaultdict(<class 'list'>, {9: [8]}), 'visionari': defaultdict(<class 'list'>, {9: [15]}), 'multipl': defaultdict(<class 'list'>, {9: [17]}), 'improv': defaultdict(<class 'list'>, {9: [19], 14: [148, 166], 15: [220]}), 'valuabl': defaultdict(<class 'list'>, {9: [25]}), 'acceler': defaultdict(<class 'list'>, {9: [29]}), 'enabl': defaultdict(<class 'list'>, {9: [35], 14: [11], 15: [150]}), 'strateg': defaultdict(<class 'list'>, {9: [36]}), 'ecosystem': defaultdict(<class 'list'>, {9: [38]}), 'robust': defaultdict(<class 'list'>, {9: [39]}), 'entri': defaultdict(<class 'list'>, {9: [47], 12: [57]}), 'mainten': defaultdict(<class 'list'>, {9: [55]}), 'relat': defaultdict(<class 'list'>, {9: [60], 15: [227], 16: [1]}), 'troubl': defaultdict(<class 'list'>, {9: [69]}), 'free': defaultdict(<class 'list'>, {9: [70]}), 'manner': defaultdict(<class 'list'>, {9: [71]}), 'capabl': defaultdict(<class 'list'>, {9: [91, 97], 14: [314]}), 'involv': defaultdict(<class 'list'>, {9: [102], 15: [113, 262]}), 'cover': defaultdict(<class 'list'>, {9: [105]}), 'export': defaultdict(<class 'list'>, {9: [106]}), 'sanction': defaultdict(<class 'list'>, {9: [108]}), 'elig': defaultdict(<class 'list'>, {9: [109, 134, 177]}), 'must': defaultdict(<class 'list'>, {9: [112, 130, 176, 188]}), 'citizen': defaultdict(<class 'list'>, {9: [114, 125]}), 'perman': defaultdict(<class 'list'>, {9: [116, 127]}), 'resid': defaultdict(<class 'list'>, {9: [117, 128]}), 'hold': defaultdict(<class 'list'>, {9: [118]}), 'dual': defaultdict(<class 'list'>, {9: [119]}), 'addit': defaultdict(<class 'list'>, {9: [122], 14: [400]}), 'either': defaultdict(<class 'list'>, {9: [123]}), 'countri': defaultdict(<class 'list'>, {9: [133]}), 'australia': defaultdict(<class 'list'>, {9: [137]}), 'belgium': defaultdict(<class 'list'>, {9: [138]}), 'bulgaria': defaultdict(<class 'list'>, {9: [139]}), 'croatia': defaultdict(<class 'list'>, {9: [141]}), 'czech': defaultdict(<class 'list'>, {9: [142]}), 'republ': defaultdict(<class 'list'>, {9: [143]}), 'denmark': defaultdict(<class 'list'>, {9: [144]}), 'estonia': defaultdict(<class 'list'>, {9: [145]}), 'finland': defaultdict(<class 'list'>, {9: [146]}), 'franc': defaultdict(<class 'list'>, {9: [147]}), 'germani': defaultdict(<class 'list'>, {9: [148]}), 'greec': defaultdict(<class 'list'>, {9: [149]}), 'hungari': defaultdict(<class 'list'>, {9: [150]}), 'iceland': defaultdict(<class 'list'>, {9: [151]}), 'itali': defaultdict(<class 'list'>, {9: [152]}), 'latvia': defaultdict(<class 'list'>, {9: [153]}), 'lithuania': defaultdict(<class 'list'>, {9: [154]}), 'luxembourg': defaultdict(<class 'list'>, {9: [155]}), 'montenegro': defaultdict(<class 'list'>, {9: [156]}), 'netherland': defaultdict(<class 'list'>, {9: [157]}), 'zealand': defaultdict(<class 'list'>, {9: [159]}), 'macedonia': defaultdict(<class 'list'>, {9: [161]}), 'norway': defaultdict(<class 'list'>, {9: [162]}), 'poland': defaultdict(<class 'list'>, {9: [163]}), 'portug': defaultdict(<class 'list'>, {9: [164]}), 'romania': defaultdict(<class 'list'>, {9: [165]}), 'slovenia': defaultdict(<class 'list'>, {9: [166]}), 'spain': defaultdict(<class 'list'>, {9: [167]}), 'sweden': defaultdict(<class 'list'>, {9: [168]}), 'switzerland': defaultdict(<class 'list'>, {9: [169]}), 'türkiy': defaultdict(<class 'list'>, {9: [170]}), 'kingdom': defaultdict(<class 'list'>, {9: [172]}), 'obtain': defaultdict(<class 'list'>, {9: [178, 193, 204], 15: [168]}), 'secret': defaultdict(<class 'list'>, {9: [179, 201]}), 'clearanc': defaultdict(<class 'list'>, {9: [180, 187, 199, 202]}), 'govern': defaultdict(<class 'list'>, {9: [182]}), 'without': defaultdict(<class 'list'>, {9: [186]}), 'recogn': defaultdict(<class 'list'>, {9: [189]}), 'six': defaultdict(<class 'list'>, {9: [191]}), 'citizenship': defaultdict(<class 'list'>, {9: [195]}), 'nato': defaultdict(<class 'list'>, {9: [196]}), 'educ': defaultdict(<class 'list'>, {9: [206], 12: [36]}), 'ottawa': defaultdict(<class 'list'>, {9: [214], 11: [33]}), 'done': defaultdict(<class 'list'>, {9: [216]}), 'resolv': defaultdict(<class 'list'>, {9: [221]}), 'line': defaultdict(<class 'list'>, {9: [223]}), 'adher': defaultdict(<class 'list'>, {9: [227]}), 'standard': defaultdict(<class 'list'>, {9: [229, 239, 251], 14: [49, 151]}), 'defin': defaultdict(<class 'list'>, {9: [234]}), 'interoper': defaultdict(<class 'list'>, {9: [250]}), 'method': defaultdict(<class 'list'>, {9: [252]}), 'troubleshoot': defaultdict(<class 'list'>, {9: [263], 14: [136]}), 'clearli': defaultdict(<class 'list'>, {9: [277]}), 'negoti': defaultdict(<class 'list'>, {9: [288]}), 'set': defaultdict(<class 'list'>, {9: [293], 14: [318], 15: [75]}), 'particip': defaultdict(<class 'list'>, {9: [295], 15: [223]}), 'vendor': defaultdict(<class 'list'>, {9: [296]}), 'evalu': defaultdict(<class 'list'>, {9: [298, 301]}), 'fellow': defaultdict(<class 'list'>, {9: [304]}), 'think': defaultdict(<class 'list'>, {9: [310, 312], 19: [44]}), 'motiv': defaultdict(<class 'list'>, {9: [316]}), 'self': defaultdict(<class 'list'>, {9: [317], 14: [341]}), 'lifelong': defaultdict(<class 'list'>, {9: [320]}), 'literaci': defaultdict(<class 'list'>, {9: [323]}), 'depend': defaultdict(<class 'list'>, {9: [324]}), 'attent': defaultdict(<class 'list'>, {9: [325]}), 'detail': defaultdict(<class 'list'>, {9: [326]}), 'empathi': defaultdict(<class 'list'>, {9: [327]}), 'activ': defaultdict(<class 'list'>, {9: [328], 15: [154, 211]}), 'listen': defaultdict(<class 'list'>, {9: [329]}), 'influenc': defaultdict(<class 'list'>, {9: [332]}), 'find': defaultdict(<class 'list'>, {10: [0], 15: [67]}), 'glassdoor': defaultdict(<class 'list'>, {10: [4]}), 'hackerrank': defaultdict(<class 'list'>, {10: [7]}), 'kaggl': defaultdict(<class 'list'>, {10: [8]}), 'angellist': defaultdict(<class 'list'>, {10: [11]}), 'dhl': defaultdict(<class 'list'>, {11: [5]}), 'fedex': defaultdict(<class 'list'>, {11: [11]}), 'deliveri': defaultdict(<class 'list'>, {11: [15], 15: [181]}), 'maersk': defaultdict(<class 'list'>, {11: [19]}), 'pick': defaultdict(<class 'list'>, {11: [26]}), 'scotiabank': defaultdict(<class 'list'>, {11: [43]}), 'demand': defaultdict(<class 'list'>, {11: [45]}), 'pc': defaultdict(<class 'list'>, {11: [52, 58]}), 'loyalti': defaultdict(<class 'list'>, {11: [56]}), 'optimum': defaultdict(<class 'list'>, {11: [59]}), 'sun': defaultdict(<class 'list'>, {11: [61]}), 'school': defaultdict(<class 'list'>, {12: [5, 11]}), 'rare': defaultdict(<class 'list'>, {12: [6]}), 'howev': defaultdict(<class 'list'>, {12: [8]}), 'tmu': defaultdict(<class 'list'>, {12: [9]}), 'medicin': defaultdict(<class 'list'>, {12: [12]}), 'staff': defaultdict(<class 'list'>, {12: [13]}), 'even': defaultdict(<class 'list'>, {12: [14]}), 'chanc': defaultdict(<class 'list'>, {12: [15]}), 'shape': defaultdict(<class 'list'>, {12: [16]}), 'physician': defaultdict(<class 'list'>, {12: [22]}), 'highli': defaultdict(<class 'list'>, {12: [23]}), 'respect': defaultdict(<class 'list'>, {12: [26]}), 'readi': defaultdict(<class 'list'>, {12: [27]}), 'doctor': defaultdict(<class 'list'>, {12: [31]}), 'approach': defaultdict(<class 'list'>, {12: [34]}), 'equiti': defaultdict(<class 'list'>, {12: [41]}), 'recent': defaultdict(<class 'list'>, {12: [47]}), 'graduat': defaultdict(<class 'list'>, {12: [48]}), 'minim': defaultdict(<class 'list'>, {12: [50]}), 'posit': defaultdict(<class 'list'>, {12: [59]}), 'duti': defaultdict(<class 'list'>, {12: [62, 72, 86, 92], 15: [261]}), 'list': defaultdict(<class 'list'>, {12: [64, 69]}), 'order': defaultdict(<class 'list'>, {12: [65], 15: [138, 167, 175]}), 'prioriti': defaultdict(<class 'list'>, {12: [66], 14: [316]}), 'typic': defaultdict(<class 'list'>, {12: [68]}), 'bullet': defaultdict(<class 'list'>, {12: [70]}), 'format': defaultdict(<class 'list'>, {12: [71], 15: [33]}), 'assign': defaultdict(<class 'list'>, {12: [73]}), 'percentag': defaultdict(<class 'list'>, {12: [74]}), 'ad': defaultdict(<class 'list'>, {12: [76]}), '100': defaultdict(<class 'list'>, {12: [77]}), 'reflect': defaultdict(<class 'list'>, {12: [78]}), 'estim': defaultdict(<class 'list'>, {12: [79]}), 'spend': defaultdict(<class 'list'>, {12: [82]}), 'durat': defaultdict(<class 'list'>, {12: [84]}), 'contract': defaultdict(<class 'list'>, {12: [85]}), 'less': defaultdict(<class 'list'>, {12: [88]}), 'remov': defaultdict(<class 'list'>, {12: [93]}), 'tesla': defaultdict(<class 'list'>, {13: [7]}), 'hug': defaultdict(<class 'list'>, {13: [8]}), 'robot': defaultdict(<class 'list'>, {13: [11]}), 'palantir': defaultdict(<class 'list'>, {13: [15]}), 'pytorch': defaultdict(<class 'list'>, {13: [21]}), 'mlop': defaultdict(<class 'list'>, {13: [24]}), 'mlflow': defaultdict(<class 'list'>, {13: [25]}), 'depart': defaultdict(<class 'list'>, {14: [1]}), 'descript': defaultdict(<class 'list'>, {14: [7]}), 'safer': defaultdict(<class 'list'>, {14: [12, 16]}), 'workplac': defaultdict(<class 'list'>, {14: [13, 230]}), 'buyer': defaultdict(<class 'list'>, {14: [25]}), 'supplier': defaultdict(<class 'list'>, {14: [26, 46]}), 'today': defaultdict(<class 'list'>, {14: [28, 62]}), 'alcumu': defaultdict(<class 'list'>, {14: [29, 228, 343]}), 'pain': defaultdict(<class 'list'>, {14: [31]}), 'complianc': defaultdict(<class 'list'>, {14: [32, 100]}), '50': defaultdict(<class 'list'>, {14: [33]}), 'organis': defaultdict(<class 'list'>, {14: [35]}), 'planet': defaultdict(<class 'list'>, {14: [41]}), 'contractor': defaultdict(<class 'list'>, {14: [47], 15: [52]}), 'compliant': defaultdict(<class 'list'>, {14: [48]}), 'behaviour': defaultdict(<class 'list'>, {14: [55]}), 'tomorrow': defaultdict(<class 'list'>, {14: [65]}), 'mobil': defaultdict(<class 'list'>, {14: [67, 77, 88, 124, 149, 173, 190, 214]}), 'workforc': defaultdict(<class 'list'>, {14: [80]}), 'android': defaultdict(<class 'list'>, {14: [90, 114]}), 'io': defaultdict(<class 'list'>, {14: [91, 113]}), 'directli': defaultdict(<class 'list'>, {14: [96]}), 'worker': defaultdict(<class 'list'>, {14: [101]}), 'mean': defaultdict(<class 'list'>, {14: [103]}), 'seamless': defaultdict(<class 'list'>, {14: [123]}), 'debug': defaultdict(<class 'list'>, {14: [137]}), 'app': defaultdict(<class 'list'>, {14: [139, 157, 219]}), 'smooth': defaultdict(<class 'list'>, {14: [142]}), 'submiss': defaultdict(<class 'list'>, {14: [156]}), 'store': defaultdict(<class 'list'>, {14: [158], 15: [26, 32, 37, 40, 147, 163, 185, 230, 275]}), 'recommend': defaultdict(<class 'list'>, {14: [163], 15: [252]}), 'asynchron': defaultdict(<class 'list'>, {14: [182]}), 'netcor': defaultdict(<class 'list'>, {14: [185]}), 'kotlin': defaultdict(<class 'list'>, {14: [193]}), 'firebas': defaultdict(<class 'list'>, {14: [199]}), 'notif': defaultdict(<class 'list'>, {14: [201]}), 'return': defaultdict(<class 'list'>, {14: [227]}), 'polici': defaultdict(<class 'list'>, {14: [231]}), 'emphas': defaultdict(<class 'list'>, {14: [236]}), 'els': defaultdict(<class 'list'>, {14: [249]}), 'wellb': defaultdict(<class 'list'>, {14: [252, 256]}), 'annual': defaultdict(<class 'list'>, {14: [264], 15: [104]}), 'give': defaultdict(<class 'list'>, {14: [265, 268]}), 'extra': defaultdict(<class 'list'>, {14: [267]}), 'wide': defaultdict(<class 'list'>, {14: [278]}), 'shut': defaultdict(<class 'list'>, {14: [279]}), 'relax': defaultdict(<class 'list'>, {14: [280]}), 'recharg': defaultdict(<class 'list'>, {14: [281]}), 'licens': defaultdict(<class 'list'>, {14: [286]}), 'upskil': defaultdict(<class 'list'>, {14: [287, 330]}), 'assess': defaultdict(<class 'list'>, {14: [295], 15: [248, 280]}), 'transfer': defaultdict(<class 'list'>, {14: [303]}), 'soft': defaultdict(<class 'list'>, {14: [304], 19: [38]}), 'might': defaultdict(<class 'list'>, {14: [310]}), 'criteria': defaultdict(<class 'list'>, {14: [312]}), 'aptitud': defaultdict(<class 'list'>, {14: [313]}), 'nonetheless': defaultdict(<class 'list'>, {14: [315]}), 'call': defaultdict(<class 'list'>, {14: [323, 392]}), 'necessari': defaultdict(<class 'list'>, {14: [328]}), 'development': defaultdict(<class 'list'>, {14: [332]}), 'whole': defaultdict(<class 'list'>, {14: [340]}), 'proudli': defaultdict(<class 'list'>, {14: [344]}), 'express': defaultdict(<class 'list'>, {14: [354]}), 'ethnic': defaultdict(<class 'list'>, {14: [357]}), 'colour': defaultdict(<class 'list'>, {14: [361], 15: [298]}), 'region': defaultdict(<class 'list'>, {14: [362]}), 'dedic': defaultdict(<class 'list'>, {14: [367]}), 'safe': defaultdict(<class 'list'>, {14: [377], 15: [89]}), 'within': defaultdict(<class 'list'>, {14: [383], 15: [110]}), '15': defaultdict(<class 'list'>, {14: [384]}), 'consist': defaultdict(<class 'list'>, {14: [389]}), 'initi': defaultdict(<class 'list'>, {14: [390]}), 'discoveri': defaultdict(<class 'list'>, {14: [391]}), 'stage': defaultdict(<class 'list'>, {14: [395]}), 'via': defaultdict(<class 'list'>, {14: [397]}), 'keen': defaultdict(<class 'list'>, {14: [406]}), 'allow': defaultdict(<class 'list'>, {14: [410]}), 'adjust': defaultdict(<class 'list'>, {14: [415]}), 'let': defaultdict(<class 'list'>, {14: [417], 15: [3]}), 'rona': defaultdict(<class 'list'>, {15: [1, 41, 42, 83, 286]}), 'blossom': defaultdict(<class 'list'>, {15: [5]}), 'desir': defaultdict(<class 'list'>, {15: [10]}), 'differ': defaultdict(<class 'list'>, {15: [18]}), 'corpor': defaultdict(<class 'list'>, {15: [23]}), 'dealer': defaultdict(<class 'list'>, {15: [25]}), 'distinct': defaultdict(<class 'list'>, {15: [27]}), 'complementari': defaultdict(<class 'list'>, {15: [31]}), 'neighbourhood': defaultdict(<class 'list'>, {15: [35]}), 'hardwar': defaultdict(<class 'list'>, {15: [36]}), 'box': defaultdict(<class 'list'>, {15: [39]}), 'dick': defaultdict(<class 'list'>, {15: [43]}), 'lumber': defaultdict(<class 'list'>, {15: [44]}), 'banner': defaultdict(<class 'list'>, {15: [45]}), 'equip': defaultdict(<class 'list'>, {15: [47]}), 'diyer': defaultdict(<class 'list'>, {15: [51]}), 'got': defaultdict(<class 'list'>, {15: [53, 55]}), 'flourish': defaultdict(<class 'list'>, {15: [61]}), 'ambit': defaultdict(<class 'list'>, {15: [71]}), 'uniqu': defaultdict(<class 'list'>, {15: [74]}), 'love': defaultdict(<class 'list'>, {15: [78]}), 'could': defaultdict(<class 'list'>, {15: [79]}), 'perfect': defaultdict(<class 'list'>, {15: [80]}), 'enjoy': defaultdict(<class 'list'>, {15: [85]}), 'exclus': defaultdict(<class 'list'>, {15: [96]}), 'discount': defaultdict(<class 'list'>, {15: [98]}), 'certain': defaultdict(<class 'list'>, {15: [101]}), 'etc': defaultdict(<class 'list'>, {15: [107]}), 'teamwork': defaultdict(<class 'list'>, {15: [115]}), 'ongo': defaultdict(<class 'list'>, {15: [116]}), 'incent': defaultdict(<class 'list'>, {15: [124]}), 'special': defaultdict(<class 'list'>, {15: [137, 166, 174]}), 'reward': defaultdict(<class 'list'>, {15: [152]}), 'telephon': defaultdict(<class 'list'>, {15: [164]}), 'prepar': defaultdict(<class 'list'>, {15: [165]}), 'specif': defaultdict(<class 'list'>, {15: [171]}), 'purchas': defaultdict(<class 'list'>, {15: [176]}), 'establish': defaultdict(<class 'list'>, {15: [177]}), 'confirm': defaultdict(<class 'list'>, {15: [178]}), 'price': defaultdict(<class 'list'>, {15: [179]}), 'date': defaultdict(<class 'list'>, {15: [182]}), 'entir': defaultdict(<class 'list'>, {15: [184]}), 'stock': defaultdict(<class 'list'>, {15: [190]}), 'merchandis': defaultdict(<class 'list'>, {15: [191]}), 'current': defaultdict(<class 'list'>, {15: [192, 207]}), 'signag': defaultdict(<class 'list'>, {15: [196]}), 'monitor': defaultdict(<class 'list'>, {15: [197]}), 'count': defaultdict(<class 'list'>, {15: [202]}), 'highlight': defaultdict(<class 'list'>, {15: [203]}), 'concern': defaultdict(<class 'list'>, {15: [205]}), 'flyer': defaultdict(<class 'list'>, {15: [208]}), 'event': defaultdict(<class 'list'>, {15: [210]}), 'strive': defaultdict(<class 'list'>, {15: [212]}), 'increas': defaultdict(<class 'list'>, {15: [213]}), 'renov': defaultdict(<class 'list'>, {15: [218]}), 'techniqu': defaultdict(<class 'list'>, {15: [219]}), 'sell': defaultdict(<class 'list'>, {15: [221, 235]}), 'session': defaultdict(<class 'list'>, {15: [226]}), 'task': defaultdict(<class 'list'>, {15: [228]}), 'effect': defaultdict(<class 'list'>, {15: [234]}), 'essenti': defaultdict(<class 'list'>, {15: [242]}), 'stretch': defaultdict(<class 'list'>, {15: [263]}), 'bend': defaultdict(<class 'list'>, {15: [264]}), 'lift': defaultdict(<class 'list'>, {15: [265]}), 'carri': defaultdict(<class 'list'>, {15: [266]}), 'medium': defaultdict(<class 'list'>, {15: [267]}), 'select': defaultdict(<class 'list'>, {15: [271]}), 'advis': defaultdict(<class 'list'>, {15: [274]}), 'encourag': defaultdict(<class 'list'>, {15: [288]}), 'titl': defaultdict(<class 'list'>, {16: [4]}), 'kpi': defaultdict(<class 'list'>, {16: [11], 19: [36]}), 'retent': defaultdict(<class 'list'>, {16: [20]}), 'roi': defaultdict(<class 'list'>, {16: [25]}), 'profit': defaultdict(<class 'list'>, {16: [40]}), 'walmart': defaultdict(<class 'list'>, {17: [2]}), 'target': defaultdict(<class 'list'>, {17: [8]}), 'pharma': defaultdict(<class 'list'>, {17: [22]}), 'johnson': defaultdict(<class 'list'>, {17: [25, 26]}), 'pfizer': defaultdict(<class 'list'>, {17: [30]}), 'unitedhealth': defaultdict(<class 'list'>, {17: [35]}), 'group': defaultdict(<class 'list'>, {17: [36]}), 'specialist': defaultdict(<class 'list'>, {18: [9]}), 'execut': defaultdict(<class 'list'>, {18: [16]}), 'coordin': defaultdict(<class 'list'>, {18: [19]}), 'administr': defaultdict(<class 'list'>, {18: [21]}), 'categori': defaultdict(<class 'list'>, {19: [8]}), 'manipul': defaultdict(<class 'list'>, {19: [12]}), 'panda': defaultdict(<class 'list'>, {19: [16]}), 'tableau': defaultdict(<class 'list'>, {19: [19]}), 'bi': defaultdict(<class 'list'>, {19: [21]}), 'looker': defaultdict(<class 'list'>, {19: [22]}), 'matplotlib': defaultdict(<class 'list'>, {19: [23]}), 'seaborn': defaultdict(<class 'list'>, {19: [24]}), 'hypothesi': defaultdict(<class 'list'>, {19: [29]}), 'regress': defaultdict(<class 'list'>, {19: [31]}), 'dashboard': defaultdict(<class 'list'>, {19: [33]})}\n"
     ]
    }
   ],
   "source": [
    "from collections import defaultdict\n",
    "# Modified to have the dict format to understand easily\n",
    "def build_position_inverted_index(documents):\n",
    "    index = defaultdict(lambda: defaultdict(list))\n",
    "    for doc_id, text in enumerate(documents):\n",
    "        tokens = normalize_tokens(tokenize(text))\n",
    "        for position, token in enumerate(tokens):\n",
    "            index[token][doc_id].append(position)\n",
    "    return index\n",
    "\n",
    "inverted_index = build_position_inverted_index(documents)\n",
    "print(dict(inverted_index))\n"
   ]
  },
  {
   "cell_type": "markdown",
   "id": "faef4df8",
   "metadata": {},
   "source": [
    "## 🧪 Test: Phrase Queries"
   ]
  },
  {
   "cell_type": "markdown",
   "id": "db832216",
   "metadata": {},
   "source": [
    "\n",
    "### 🗣 Instructor Talking Point:\n",
    "> A phrase query requires the exact sequence of terms (e.g., \"machine learning\"). To support this, extend the inverted index to store positions, not just docIDs.\n",
    "\n",
    "### 🔧 Your Task:\n",
    "- Implement 2 phrase queries.\n",
    "- Demonstrate that they return the correct documents.\n"
   ]
  },
  {
   "cell_type": "code",
   "execution_count": 5,
   "id": "c249bde8",
   "metadata": {},
   "outputs": [],
   "source": [
    "from nltk.stem import PorterStemmer\n",
    "\n",
    "stemmer = PorterStemmer()\n",
    "\n",
    "def stem_tokens(tokens):\n",
    "    return [stemmer.stem(token) for token in tokens]\n",
    "\n",
    "def phrase_query_search_stem(phrase, inverted_index):\n",
    "    # Tokenize, normalize, and stem the query\n",
    "    tokens = normalize_tokens(tokenize(phrase))\n",
    "    stemmed_terms = stem_tokens(tokens)\n",
    "    print(f\"Stemmed terms for query '{phrase}':\")\n",
    "\n",
    "    if not stemmed_terms:\n",
    "        return []\n",
    "\n",
    "    postings = [inverted_index.get(term, {}) for term in stemmed_terms]\n",
    "\n",
    "    common_docs = set(postings[0].keys())\n",
    "    for p in postings[1:]:\n",
    "        common_docs &= set(p.keys())\n",
    "\n",
    "    results = []\n",
    "    for doc_id in common_docs:\n",
    "        positions_lists = [p[doc_id] for p in postings]\n",
    "        for pos in positions_lists[0]:\n",
    "            if all((pos + i) in positions_lists[i] for i in range(1, len(stemmed_terms))):\n",
    "                results.append(doc_id)\n",
    "                break\n",
    "    return results\n"
   ]
  },
  {
   "cell_type": "code",
   "execution_count": 6,
   "id": "13007184",
   "metadata": {},
   "outputs": [
    {
     "name": "stdout",
     "output_type": "stream",
     "text": [
      "Stemmed terms for query 'design':\n",
      "Stemmed terms for query 'design systems':\n",
      "Stemmed terms for query 'Experience with design systems':\n",
      "Query 1 matched documents: [4, 6, 7, 8, 9, 14, 18]\n",
      "Query 2 matched documents: [6, 7]\n",
      "Query 3 matched documents: [6]\n"
     ]
    }
   ],
   "source": [
    "query1 = \"design\"\n",
    "query2 = \"design systems\"\n",
    "quuery3 = \"Experience with design systems\"\n",
    "\n",
    "matching_docs1 = phrase_query_search_stem(query1, inverted_index)\n",
    "matching_docs2 = phrase_query_search_stem(query2, inverted_index)\n",
    "matching_docs3 = phrase_query_search_stem(quuery3, inverted_index)\n",
    "\n",
    "print(\"Query 1 matched documents:\", matching_docs1)\n",
    "print(\"Query 2 matched documents:\", matching_docs2)\n",
    "print(\"Query 3 matched documents:\", matching_docs3)\n"
   ]
  },
  {
   "cell_type": "markdown",
   "id": "566691d1",
   "metadata": {},
   "source": [
    "## Talking Points\n",
    "\n",
    "### **Query 1: \"design\"**\n",
    "- **Stemmed Term:** `['design']`\n",
    "- **Type:** Single keyword search\n",
    "- **Match Strategy:** Finds documents containing the stemmed term `'design'`\n",
    "- **Result:** Returns all documents where collaboration is mentioned in any form\n",
    "- **Talking Point:**  \n",
    "  This is a broad query. Since `'design'` is a commonly used term, it's likely to retrieve multiple documents discussing teamwork or cooperative efforts.\n",
    "\n",
    "---\n",
    "\n",
    "### **Query 2: \"design systems\"**\n",
    "- **Stemmed Terms:** `['design', 'system']`\n",
    "- **Type:** Phrase query (2 terms)\n",
    "- **Match Strategy:** Searches for documents where `'design'` is immediately followed by `'system'`\n",
    "- **Result:** Returns fewer, more context-specific matches\n",
    "- **Talking Point:**  \n",
    "  This query is more targeted. It narrows results to documents that mention design systems explicitly, which is useful when looking for focused content.\n",
    "\n",
    "---\n",
    "\n",
    "### **Query 3: \"Experience with design systems\"**\n",
    "- **Stemmed Terms:** `['experi', 'with', 'design', 'system']`\n",
    "- **Type:** Full phrase query (4 terms)\n",
    "- **Match Strategy:** Requires all stemmed terms to appear in **sequence** in a document\n",
    "- **Result:** Likely to return few or no results\n",
    "- **Talking Point:**  \n",
    "  This is a highly specific query. It retrieves only documents that match the full phrase exactly. This improves precision but may limit recall if the exact phrasing isn't present.\n",
    "\n",
    "---\n",
    "\n",
    "### 🧠 Summary:\n",
    "- Short, broad queries (like Query 1) have high recall but low precision.\n",
    "- Two-term phrases (like Query 2) balance precision and recall.\n",
    "- Long, structured phrases (like Query 3) offer high precision but may miss loosely worded matches.\n"
   ]
  }
 ],
 "metadata": {
  "kernelspec": {
   "display_name": ".venv",
   "language": "python",
   "name": "python3"
  },
  "language_info": {
   "codemirror_mode": {
    "name": "ipython",
    "version": 3
   },
   "file_extension": ".py",
   "mimetype": "text/x-python",
   "name": "python",
   "nbconvert_exporter": "python",
   "pygments_lexer": "ipython3",
   "version": "3.13.3"
  }
 },
 "nbformat": 4,
 "nbformat_minor": 5
}
